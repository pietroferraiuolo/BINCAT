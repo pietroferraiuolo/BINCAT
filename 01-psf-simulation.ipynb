{
 "cells": [
  {
   "cell_type": "markdown",
   "id": "eb75744c",
   "metadata": {},
   "source": [
    "# GAIA PSF Simulation\n",
    "\n",
    "First attempt to simulate close binary stars observation using the gaia telescope. The latter is imagined as a rectangular pupil, with no pixel binning or aberrations"
   ]
  },
  {
   "cell_type": "markdown",
   "id": "d2e0a393",
   "metadata": {},
   "source": [
    "#### Initialization"
   ]
  },
  {
   "cell_type": "code",
   "execution_count": 10,
   "id": "a3be17dd",
   "metadata": {},
   "outputs": [],
   "source": [
    "import logging\n",
    "logging.basicConfig(level=logging.INFO, format='%(asctime)s - %(levelname)s - %(message)s')"
   ]
  },
  {
   "cell_type": "code",
   "execution_count": 26,
   "id": "a1966bb3",
   "metadata": {},
   "outputs": [
    {
     "name": "stderr",
     "output_type": "stream",
     "text": [
      "QSocketNotifier: Can only be used with threads started with QThread\n"
     ]
    }
   ],
   "source": [
    "%matplotlib qt"
   ]
  },
  {
   "cell_type": "code",
   "execution_count": 18,
   "id": "c75cb6ed",
   "metadata": {},
   "outputs": [],
   "source": [
    "import poppy\n",
    "import numpy as np\n",
    "import astropy.units as u\n",
    "from astropy.table import QTable\n",
    "from astropy.io import fits\n",
    "from matplotlib import pyplot as plt\n",
    "from astropy import convolution as c\n",
    "from simulator import GaiaTelescopeV0\n",
    "from opticalib import load_fits\n",
    "\n",
    "Gpb = QTable.read(\"data/gaiaDR3passband.fits\")\n",
    "weights = Gpb.filled(0)"
   ]
  },
  {
   "cell_type": "code",
   "execution_count": null,
   "id": "1548de09",
   "metadata": {},
   "outputs": [],
   "source": [
    "poppy.conf.use_multiprocessing = False\n",
    "poppy.conf.n_processes = 20\n",
    "poppy.conf.double_precision = False\n",
    "\n",
    "M1 = poppy.RectangleAperture(name=\"Primary Mirror\", width=1.45*u.m, height=0.5*u.m)\n",
    "# M2 = poppy.RectangleAperture(name=\"Beam Collimator / Secondary Mirror\",width=0.35*u.m, height=0.2*u.m)"
   ]
  },
  {
   "cell_type": "code",
   "execution_count": 31,
   "id": "c40d2c25",
   "metadata": {},
   "outputs": [
    {
     "name": "stderr",
     "output_type": "stream",
     "text": [
      "2025-09-17 14:41:30,523 - INFO - Initialized OpticalSystem: Gaia\n",
      "2025-09-17 14:41:30,525 - INFO - Added pupil plane: Primary Mirror\n",
      "2025-09-17 14:41:30,542 - INFO - Added detector with pixelscale=1.0 arcsec / pix and oversampling=1000: AF CCD\n",
      "2025-09-17 14:41:30,544 - INFO - Calculating PSF with 781 wavelengths\n",
      "2025-09-17 14:41:30,545 - INFO - User requested saving intermediate wavefronts in call to poppy.calc_psf\n",
      "  0%|                                                   | 0/781 [00:00<?, ?it/s]2025-09-17 14:41:30,546 - INFO -  Propagating wavelength = 320 nm\n",
      "2025-09-17 14:41:30,547 - INFO - You did not define npix either on the OpticalSystem or its first optic; defaulting to 1024 pixels.\n",
      "  0%|                                                   | 0/781 [00:00<?, ?it/s]\n"
     ]
    },
    {
     "ename": "OutOfMemoryError",
     "evalue": "Out of memory allocating 16,384,000,000 bytes (allocated so far: 578,327,552 bytes).",
     "output_type": "error",
     "traceback": [
      "\u001b[31m---------------------------------------------------------------------------\u001b[39m",
      "\u001b[31mOutOfMemoryError\u001b[39m                          Traceback (most recent call last)",
      "\u001b[36mCell\u001b[39m\u001b[36m \u001b[39m\u001b[32mIn[31]\u001b[39m\u001b[32m, line 9\u001b[39m\n\u001b[32m      4\u001b[39m \u001b[38;5;66;03m# telescope.add_pupil(M2)\u001b[39;00m\n\u001b[32m      5\u001b[39m \n\u001b[32m      6\u001b[39m \u001b[38;5;66;03m# oversampled sky\u001b[39;00m\n\u001b[32m      7\u001b[39m telescope.add_detector(name=\u001b[33m\"\u001b[39m\u001b[33mAF CCD\u001b[39m\u001b[33m\"\u001b[39m, pixelscale=\u001b[32m0.001\u001b[39m*\u001b[32m1000\u001b[39m*(u.arcsec/u.pixel), fov_arcsec=\u001b[32m4000\u001b[39m*u.arcsec)\n\u001b[32m----> \u001b[39m\u001b[32m9\u001b[39m psf = \u001b[43mtelescope\u001b[49m\u001b[43m.\u001b[49m\u001b[43mcalc_psf\u001b[49m\u001b[43m(\u001b[49m\u001b[43mprogressbar\u001b[49m\u001b[43m=\u001b[49m\u001b[38;5;28;43;01mTrue\u001b[39;49;00m\u001b[43m,\u001b[49m\u001b[43m \u001b[49m\u001b[43mreturn_intermediates\u001b[49m\u001b[43m=\u001b[49m\u001b[38;5;28;43;01mTrue\u001b[39;49;00m\u001b[43m,\u001b[49m\u001b[43m \u001b[49m\u001b[43mreturn_final\u001b[49m\u001b[43m=\u001b[49m\u001b[38;5;28;43;01mTrue\u001b[39;49;00m\u001b[43m,\u001b[49m\u001b[43m \u001b[49m\u001b[43msource\u001b[49m\u001b[43m=\u001b[49m\u001b[43m{\u001b[49m\u001b[33;43m'\u001b[39;49m\u001b[33;43mwavelengths\u001b[39;49m\u001b[33;43m'\u001b[39;49m\u001b[43m:\u001b[49m\u001b[43m \u001b[49m\u001b[43mGpb\u001b[49m\u001b[43m[\u001b[49m\u001b[33;43m'\u001b[39;49m\u001b[33;43mlambda\u001b[39;49m\u001b[33;43m'\u001b[39;49m\u001b[43m]\u001b[49m\u001b[43m,\u001b[49m\u001b[43m \u001b[49m\u001b[33;43m'\u001b[39;49m\u001b[33;43mweights\u001b[39;49m\u001b[33;43m'\u001b[39;49m\u001b[43m:\u001b[49m\u001b[43m \u001b[49m\u001b[43mweights\u001b[49m\u001b[43m[\u001b[49m\u001b[33;43m'\u001b[39;49m\u001b[33;43mG\u001b[39;49m\u001b[33;43m'\u001b[39;49m\u001b[43m]\u001b[49m\u001b[43m}\u001b[49m\u001b[43m)\u001b[49m\n",
      "\u001b[36mFile \u001b[39m\u001b[32m~/miniforge3/lib/python3.12/site-packages/poppy/utils.py:1476\u001b[39m, in \u001b[36mBackCompatibleQuantityInput.__call__.<locals>.unit_check_wrapper\u001b[39m\u001b[34m(*func_args, **func_kwargs)\u001b[39m\n\u001b[32m   1472\u001b[39m \u001b[38;5;66;03m# Call the original function with any equivalencies in force.\u001b[39;00m\n\u001b[32m   1473\u001b[39m \u001b[38;5;28;01mwith\u001b[39;00m add_enabled_equivalencies(\u001b[38;5;28mself\u001b[39m.equivalencies):\n\u001b[32m   1474\u001b[39m     \u001b[38;5;66;03m# print(\"Args:   {}\".format(bound_args.args))\u001b[39;00m\n\u001b[32m   1475\u001b[39m     \u001b[38;5;66;03m# print(\"KWArgs: {}\".format(bound_args.kwargs))\u001b[39;00m\n\u001b[32m-> \u001b[39m\u001b[32m1476\u001b[39m     \u001b[38;5;28;01mreturn\u001b[39;00m \u001b[43mwrapped_function\u001b[49m\u001b[43m(\u001b[49m\u001b[43m*\u001b[49m\u001b[43mbound_args\u001b[49m\u001b[43m.\u001b[49m\u001b[43margs\u001b[49m\u001b[43m,\u001b[49m\u001b[43m \u001b[49m\u001b[43m*\u001b[49m\u001b[43m*\u001b[49m\u001b[43mbound_args\u001b[49m\u001b[43m.\u001b[49m\u001b[43mkwargs\u001b[49m\u001b[43m)\u001b[49m\n",
      "\u001b[36mFile \u001b[39m\u001b[32m~/miniforge3/lib/python3.12/site-packages/poppy/poppy_core.py:1739\u001b[39m, in \u001b[36mBaseOpticalSystem.calc_psf\u001b[39m\u001b[34m(self, wavelength, weight, save_intermediates, save_intermediates_what, display, return_intermediates, return_final, source, normalize, display_intermediates, progressbar, inwave)\u001b[39m\n\u001b[32m   1737\u001b[39m iterate_wrapper = utils.get_progressbar_wrapper(progressbar, nwaves=\u001b[38;5;28mlen\u001b[39m(wavelength))\n\u001b[32m   1738\u001b[39m \u001b[38;5;28;01mfor\u001b[39;00m wlen, wave_weight \u001b[38;5;129;01min\u001b[39;00m iterate_wrapper(\u001b[38;5;28mzip\u001b[39m(wavelength, normwts)):\n\u001b[32m-> \u001b[39m\u001b[32m1739\u001b[39m     mono_psf, mono_intermediate_wfs = \u001b[38;5;28;43mself\u001b[39;49m\u001b[43m.\u001b[49m\u001b[43mpropagate_mono\u001b[49m\u001b[43m(\u001b[49m\n\u001b[32m   1740\u001b[39m \u001b[43m        \u001b[49m\u001b[43mwlen\u001b[49m\u001b[43m,\u001b[49m\n\u001b[32m   1741\u001b[39m \u001b[43m        \u001b[49m\u001b[43mretain_intermediates\u001b[49m\u001b[43m=\u001b[49m\u001b[43mretain_intermediates\u001b[49m\u001b[43m,\u001b[49m\n\u001b[32m   1742\u001b[39m \u001b[43m        \u001b[49m\u001b[43mretain_final\u001b[49m\u001b[43m=\u001b[49m\u001b[43mreturn_final\u001b[49m\u001b[43m,\u001b[49m\n\u001b[32m   1743\u001b[39m \u001b[43m        \u001b[49m\u001b[43mdisplay_intermediates\u001b[49m\u001b[43m=\u001b[49m\u001b[43mdisplay_intermediates\u001b[49m\u001b[43m,\u001b[49m\n\u001b[32m   1744\u001b[39m \u001b[43m        \u001b[49m\u001b[43mnormalize\u001b[49m\u001b[43m=\u001b[49m\u001b[43mnormalize\u001b[49m\u001b[43m,\u001b[49m\n\u001b[32m   1745\u001b[39m \u001b[43m        \u001b[49m\u001b[43minwave\u001b[49m\u001b[43m=\u001b[49m\u001b[43minwave\u001b[49m\n\u001b[32m   1746\u001b[39m \u001b[43m    \u001b[49m\u001b[43m)\u001b[49m\n\u001b[32m   1748\u001b[39m     \u001b[38;5;28;01mif\u001b[39;00m outfits \u001b[38;5;129;01mis\u001b[39;00m \u001b[38;5;28;01mNone\u001b[39;00m:\n\u001b[32m   1749\u001b[39m         \u001b[38;5;66;03m# for the first wavelength processed, set up the arrays where we accumulate the output\u001b[39;00m\n\u001b[32m   1750\u001b[39m         outfits = mono_psf\n",
      "\u001b[36mFile \u001b[39m\u001b[32m~/miniforge3/lib/python3.12/site-packages/poppy/utils.py:1476\u001b[39m, in \u001b[36mBackCompatibleQuantityInput.__call__.<locals>.unit_check_wrapper\u001b[39m\u001b[34m(*func_args, **func_kwargs)\u001b[39m\n\u001b[32m   1472\u001b[39m \u001b[38;5;66;03m# Call the original function with any equivalencies in force.\u001b[39;00m\n\u001b[32m   1473\u001b[39m \u001b[38;5;28;01mwith\u001b[39;00m add_enabled_equivalencies(\u001b[38;5;28mself\u001b[39m.equivalencies):\n\u001b[32m   1474\u001b[39m     \u001b[38;5;66;03m# print(\"Args:   {}\".format(bound_args.args))\u001b[39;00m\n\u001b[32m   1475\u001b[39m     \u001b[38;5;66;03m# print(\"KWArgs: {}\".format(bound_args.kwargs))\u001b[39;00m\n\u001b[32m-> \u001b[39m\u001b[32m1476\u001b[39m     \u001b[38;5;28;01mreturn\u001b[39;00m \u001b[43mwrapped_function\u001b[49m\u001b[43m(\u001b[49m\u001b[43m*\u001b[49m\u001b[43mbound_args\u001b[49m\u001b[43m.\u001b[49m\u001b[43margs\u001b[49m\u001b[43m,\u001b[49m\u001b[43m \u001b[49m\u001b[43m*\u001b[49m\u001b[43m*\u001b[49m\u001b[43mbound_args\u001b[49m\u001b[43m.\u001b[49m\u001b[43mkwargs\u001b[49m\u001b[43m)\u001b[49m\n",
      "\u001b[36mFile \u001b[39m\u001b[32m~/miniforge3/lib/python3.12/site-packages/poppy/poppy_core.py:1875\u001b[39m, in \u001b[36mBaseOpticalSystem.propagate_mono\u001b[39m\u001b[34m(self, wavelength, normalize, retain_intermediates, retain_final, display_intermediates, inwave)\u001b[39m\n\u001b[32m   1872\u001b[39m \u001b[38;5;66;03m# Is there a more elegant way to handle optional return quantities?\u001b[39;00m\n\u001b[32m   1873\u001b[39m \u001b[38;5;66;03m# without making them mandatory.\u001b[39;00m\n\u001b[32m   1874\u001b[39m \u001b[38;5;28;01mif\u001b[39;00m retain_intermediates:\n\u001b[32m-> \u001b[39m\u001b[32m1875\u001b[39m     wavefront, intermediate_wfs = \u001b[38;5;28;43mself\u001b[39;49m\u001b[43m.\u001b[49m\u001b[43mpropagate\u001b[49m\u001b[43m(\u001b[49m\u001b[43mwavefront\u001b[49m\u001b[43m,\u001b[49m\u001b[43m \u001b[49m\u001b[43m*\u001b[49m\u001b[43m*\u001b[49m\u001b[43mkwargs\u001b[49m\u001b[43m)\u001b[49m\n\u001b[32m   1876\u001b[39m \u001b[38;5;28;01melse\u001b[39;00m:\n\u001b[32m   1877\u001b[39m     wavefront = \u001b[38;5;28mself\u001b[39m.propagate(wavefront, **kwargs)\n",
      "\u001b[36mFile \u001b[39m\u001b[32m~/miniforge3/lib/python3.12/site-packages/poppy/poppy_core.py:2224\u001b[39m, in \u001b[36mOpticalSystem.propagate\u001b[39m\u001b[34m(self, wavefront, normalize, return_intermediates, display_intermediates)\u001b[39m\n\u001b[32m   2222\u001b[39m     s0 = time.time()\n\u001b[32m   2223\u001b[39m \u001b[38;5;66;03m# The actual propagation:\u001b[39;00m\n\u001b[32m-> \u001b[39m\u001b[32m2224\u001b[39m \u001b[43mwavefront\u001b[49m\u001b[43m.\u001b[49m\u001b[43mpropagate_to\u001b[49m\u001b[43m(\u001b[49m\u001b[43moptic\u001b[49m\u001b[43m)\u001b[49m\n\u001b[32m   2225\u001b[39m wavefront *= optic\n\u001b[32m   2227\u001b[39m \u001b[38;5;66;03m# Normalize if appropriate:\u001b[39;00m\n",
      "\u001b[36mFile \u001b[39m\u001b[32m~/miniforge3/lib/python3.12/site-packages/poppy/poppy_core.py:1048\u001b[39m, in \u001b[36mWavefront.propagate_to\u001b[39m\u001b[34m(self, optic)\u001b[39m\n\u001b[32m   1045\u001b[39m     \u001b[38;5;28mself\u001b[39m.location = \u001b[33m'\u001b[39m\u001b[33mafter \u001b[39m\u001b[33m'\u001b[39m + optic.name\n\u001b[32m   1046\u001b[39m \u001b[38;5;28;01melif\u001b[39;00m ((optic.planetype == PlaneType.detector \u001b[38;5;129;01mor\u001b[39;00m \u001b[38;5;28mgetattr\u001b[39m(optic, \u001b[33m'\u001b[39m\u001b[33mpropagation_hint\u001b[39m\u001b[33m'\u001b[39m, \u001b[38;5;28;01mNone\u001b[39;00m) == \u001b[33m'\u001b[39m\u001b[33mMFT\u001b[39m\u001b[33m'\u001b[39m)\n\u001b[32m   1047\u001b[39m         \u001b[38;5;129;01mand\u001b[39;00m \u001b[38;5;28mself\u001b[39m.planetype == PlaneType.pupil):  \u001b[38;5;66;03m# from pupil to detector in image plane: use MFT\u001b[39;00m\n\u001b[32m-> \u001b[39m\u001b[32m1048\u001b[39m     \u001b[38;5;28;43mself\u001b[39;49m\u001b[43m.\u001b[49m\u001b[43m_propagate_mft\u001b[49m\u001b[43m(\u001b[49m\u001b[43moptic\u001b[49m\u001b[43m)\u001b[49m\n\u001b[32m   1049\u001b[39m     \u001b[38;5;28mself\u001b[39m.location = \u001b[33m'\u001b[39m\u001b[33mbefore \u001b[39m\u001b[33m'\u001b[39m + optic.name\n\u001b[32m   1050\u001b[39m \u001b[38;5;28;01melif\u001b[39;00m (optic.planetype == PlaneType.pupil \u001b[38;5;129;01mand\u001b[39;00m \u001b[38;5;28mself\u001b[39m.planetype == PlaneType.image \u001b[38;5;129;01mand\u001b[39;00m\n\u001b[32m   1051\u001b[39m         \u001b[38;5;28mself\u001b[39m._last_transform_type == \u001b[33m'\u001b[39m\u001b[33mMFT\u001b[39m\u001b[33m'\u001b[39m):\n\u001b[32m   1052\u001b[39m     \u001b[38;5;66;03m# inverse MFT detector to pupil\u001b[39;00m\n\u001b[32m   1053\u001b[39m     \u001b[38;5;66;03m# n.b. transforming PlaneType.pupil -> PlaneType.detector results in self.planetype == PlaneType.image\u001b[39;00m\n\u001b[32m   1054\u001b[39m     \u001b[38;5;66;03m# while setting _last_transform_type to MFT\u001b[39;00m\n",
      "\u001b[36mFile \u001b[39m\u001b[32m~/miniforge3/lib/python3.12/site-packages/poppy/poppy_core.py:1178\u001b[39m, in \u001b[36mWavefront._propagate_mft\u001b[39m\u001b[34m(self, det)\u001b[39m\n\u001b[32m   1175\u001b[39m     _log.debug(\u001b[33m'\u001b[39m\u001b[33m      offset= \u001b[39m\u001b[33m'\u001b[39m+\u001b[38;5;28mstr\u001b[39m( det.offset))\n\u001b[32m   1176\u001b[39m _log.debug(\u001b[33m'\u001b[39m\u001b[33m      MFT method = \u001b[39m\u001b[33m'\u001b[39m + mft.centering)\n\u001b[32m-> \u001b[39m\u001b[32m1178\u001b[39m \u001b[38;5;28mself\u001b[39m.wavefront = \u001b[43mmft\u001b[49m\u001b[43m.\u001b[49m\u001b[43mperform\u001b[49m\u001b[43m(\u001b[49m\u001b[38;5;28;43mself\u001b[39;49m\u001b[43m.\u001b[49m\u001b[43mwavefront\u001b[49m\u001b[43m,\u001b[49m\u001b[43m \u001b[49m\u001b[43mdet_fov_lam_d\u001b[49m\u001b[43m,\u001b[49m\u001b[43m \u001b[49m\u001b[43mdet_calc_size_pixels\u001b[49m\u001b[43m,\u001b[49m\n\u001b[32m   1179\u001b[39m \u001b[43m                             \u001b[49m\u001b[43moffset\u001b[49m\u001b[43m=\u001b[49m\u001b[38;5;28;43;01mNone\u001b[39;49;00m\u001b[43m \u001b[49m\u001b[38;5;28;43;01mif\u001b[39;49;00m\u001b[43m \u001b[49m\u001b[43mdet\u001b[49m\u001b[43m.\u001b[49m\u001b[43moffset\u001b[49m\u001b[43m \u001b[49m\u001b[38;5;129;43;01mis\u001b[39;49;00m\u001b[43m \u001b[49m\u001b[38;5;28;43;01mNone\u001b[39;49;00m\u001b[43m \u001b[49m\u001b[38;5;28;43;01melse\u001b[39;49;00m\u001b[43m \u001b[49m\u001b[43mdet\u001b[49m\u001b[43m.\u001b[49m\u001b[43moffset\u001b[49m\u001b[43m \u001b[49m\u001b[43m*\u001b[49m\u001b[43m \u001b[49m\u001b[43mdet\u001b[49m\u001b[43m.\u001b[49m\u001b[43m_offset_sign\u001b[49m\u001b[43m)\u001b[49m  \u001b[38;5;66;03m# sign flip intentional, see note in Detector class\u001b[39;00m\n\u001b[32m   1180\u001b[39m _log.debug(\u001b[33m\"\u001b[39m\u001b[33m     Result wavefront: at=\u001b[39m\u001b[38;5;132;01m{0}\u001b[39;00m\u001b[33m shape=\u001b[39m\u001b[38;5;132;01m{1}\u001b[39;00m\u001b[33m \u001b[39m\u001b[33m\"\u001b[39m.format(\n\u001b[32m   1181\u001b[39m     \u001b[38;5;28mself\u001b[39m.location, \u001b[38;5;28mstr\u001b[39m(\u001b[38;5;28mself\u001b[39m.shape)))\n\u001b[32m   1182\u001b[39m \u001b[38;5;28mself\u001b[39m._last_transform_type = \u001b[33m'\u001b[39m\u001b[33mMFT\u001b[39m\u001b[33m'\u001b[39m\n",
      "\u001b[36mFile \u001b[39m\u001b[32m~/miniforge3/lib/python3.12/site-packages/poppy/matrixDFT.py:500\u001b[39m, in \u001b[36mMatrixFourierTransform.perform\u001b[39m\u001b[34m(self, pupil, nlamD, npix, offset)\u001b[39m\n\u001b[32m    492\u001b[39m \u001b[38;5;28mself\u001b[39m._validate_args(nlamD, npix, offset)\n\u001b[32m    493\u001b[39m _log.debug(\n\u001b[32m    494\u001b[39m     \u001b[33m\"\u001b[39m\u001b[33mForward MatrixFourierTransform: array shape \u001b[39m\u001b[38;5;132;01m{}\u001b[39;00m\u001b[33m, \u001b[39m\u001b[33m\"\u001b[39m\n\u001b[32m    495\u001b[39m     \u001b[33m\"\u001b[39m\u001b[33mcentering style \u001b[39m\u001b[38;5;132;01m{}\u001b[39;00m\u001b[33m, \u001b[39m\u001b[33m\"\u001b[39m\n\u001b[32m   (...)\u001b[39m\u001b[32m    498\u001b[39m     \u001b[33m\"\u001b[39m\u001b[33moffset \u001b[39m\u001b[38;5;132;01m{}\u001b[39;00m\u001b[33m\"\u001b[39m.format(pupil.shape, \u001b[38;5;28mself\u001b[39m.centering, nlamD, npix, offset)\n\u001b[32m    499\u001b[39m )\n\u001b[32m--> \u001b[39m\u001b[32m500\u001b[39m \u001b[38;5;28;01mreturn\u001b[39;00m \u001b[43mmatrix_dft\u001b[49m\u001b[43m(\u001b[49m\u001b[43mpupil\u001b[49m\u001b[43m,\u001b[49m\u001b[43m \u001b[49m\u001b[43mnlamD\u001b[49m\u001b[43m,\u001b[49m\u001b[43m \u001b[49m\u001b[43mnpix\u001b[49m\u001b[43m,\u001b[49m\n\u001b[32m    501\u001b[39m \u001b[43m                  \u001b[49m\u001b[43mcentering\u001b[49m\u001b[43m=\u001b[49m\u001b[38;5;28;43mself\u001b[39;49m\u001b[43m.\u001b[49m\u001b[43mcentering\u001b[49m\u001b[43m,\u001b[49m\u001b[43m \u001b[49m\u001b[43moffset\u001b[49m\u001b[43m=\u001b[49m\u001b[43moffset\u001b[49m\u001b[43m)\u001b[49m\n",
      "\u001b[36mFile \u001b[39m\u001b[32m~/miniforge3/lib/python3.12/site-packages/poppy/matrixDFT.py:206\u001b[39m, in \u001b[36mmatrix_dft\u001b[39m\u001b[34m(plane, nlamD, npix, offset, inverse, centering)\u001b[39m\n\u001b[32m    203\u001b[39m \u001b[38;5;28;01melse\u001b[39;00m:\n\u001b[32m    204\u001b[39m     \u001b[38;5;28;01mraise\u001b[39;00m \u001b[38;5;167;01mValueError\u001b[39;00m(\u001b[33m\"\u001b[39m\u001b[33mInvalid centering style\u001b[39m\u001b[33m\"\u001b[39m)\n\u001b[32m--> \u001b[39m\u001b[32m206\u001b[39m XU = \u001b[43mxp\u001b[49m\u001b[43m.\u001b[49m\u001b[43mouter\u001b[49m\u001b[43m(\u001b[49m\u001b[43mXs\u001b[49m\u001b[43m,\u001b[49m\u001b[43m \u001b[49m\u001b[43mUs\u001b[49m\u001b[43m)\u001b[49m\n\u001b[32m    207\u001b[39m YV = xp.outer(Ys, Vs)\n\u001b[32m    209\u001b[39m \u001b[38;5;66;03m# SIGN CONVENTION: plus signs in exponent for basic forward propagation, with\u001b[39;00m\n\u001b[32m    210\u001b[39m \u001b[38;5;66;03m# phase increasing with time. This convention differs from prior poppy version < 1.0\u001b[39;00m\n",
      "\u001b[36mFile \u001b[39m\u001b[32m~/miniforge3/lib/python3.12/site-packages/cupy/linalg/_product.py:269\u001b[39m, in \u001b[36mouter\u001b[39m\u001b[34m(a, b, out)\u001b[39m\n\u001b[32m    252\u001b[39m \u001b[38;5;28;01mdef\u001b[39;00m\u001b[38;5;250m \u001b[39m\u001b[34mouter\u001b[39m(a, b, out=\u001b[38;5;28;01mNone\u001b[39;00m):\n\u001b[32m    253\u001b[39m \u001b[38;5;250m    \u001b[39m\u001b[33;03m\"\"\"Returns the outer product of two vectors.\u001b[39;00m\n\u001b[32m    254\u001b[39m \n\u001b[32m    255\u001b[39m \u001b[33;03m    The input arrays are flattened into 1-D vectors and then it performs outer\u001b[39;00m\n\u001b[32m   (...)\u001b[39m\u001b[32m    267\u001b[39m \n\u001b[32m    268\u001b[39m \u001b[33;03m    \"\"\"\u001b[39;00m\n\u001b[32m--> \u001b[39m\u001b[32m269\u001b[39m     \u001b[38;5;28;01mreturn\u001b[39;00m \u001b[43mcupy\u001b[49m\u001b[43m.\u001b[49m\u001b[43mmultiply\u001b[49m\u001b[43m(\u001b[49m\u001b[43ma\u001b[49m\u001b[43m.\u001b[49m\u001b[43mravel\u001b[49m\u001b[43m(\u001b[49m\u001b[43m)\u001b[49m\u001b[43m[\u001b[49m\u001b[43m:\u001b[49m\u001b[43m,\u001b[49m\u001b[43m \u001b[49m\u001b[38;5;28;43;01mNone\u001b[39;49;00m\u001b[43m]\u001b[49m\u001b[43m,\u001b[49m\u001b[43m \u001b[49m\u001b[43mb\u001b[49m\u001b[43m.\u001b[49m\u001b[43mravel\u001b[49m\u001b[43m(\u001b[49m\u001b[43m)\u001b[49m\u001b[43m[\u001b[49m\u001b[38;5;28;43;01mNone\u001b[39;49;00m\u001b[43m,\u001b[49m\u001b[43m \u001b[49m\u001b[43m:\u001b[49m\u001b[43m]\u001b[49m\u001b[43m,\u001b[49m\u001b[43m \u001b[49m\u001b[43mout\u001b[49m\u001b[43m=\u001b[49m\u001b[43mout\u001b[49m\u001b[43m)\u001b[49m\n",
      "\u001b[36mFile \u001b[39m\u001b[32mcupy/_core/_kernel.pyx:1349\u001b[39m, in \u001b[36mcupy._core._kernel.ufunc.__call__\u001b[39m\u001b[34m()\u001b[39m\n",
      "\u001b[36mFile \u001b[39m\u001b[32mcupy/_core/_kernel.pyx:645\u001b[39m, in \u001b[36mcupy._core._kernel._get_out_args_from_optionals\u001b[39m\u001b[34m()\u001b[39m\n",
      "\u001b[36mFile \u001b[39m\u001b[32mcupy/_core/core.pyx:3006\u001b[39m, in \u001b[36mcupy._core.core._ndarray_init\u001b[39m\u001b[34m()\u001b[39m\n",
      "\u001b[36mFile \u001b[39m\u001b[32mcupy/_core/core.pyx:272\u001b[39m, in \u001b[36mcupy._core.core._ndarray_base._init_fast\u001b[39m\u001b[34m()\u001b[39m\n",
      "\u001b[36mFile \u001b[39m\u001b[32mcupy/cuda/memory.pyx:875\u001b[39m, in \u001b[36mcupy.cuda.memory.alloc\u001b[39m\u001b[34m()\u001b[39m\n",
      "\u001b[36mFile \u001b[39m\u001b[32mcupy/cuda/memory.pyx:1579\u001b[39m, in \u001b[36mcupy.cuda.memory.MemoryPool.malloc\u001b[39m\u001b[34m()\u001b[39m\n",
      "\u001b[36mFile \u001b[39m\u001b[32mcupy/cuda/memory.pyx:1600\u001b[39m, in \u001b[36mcupy.cuda.memory.MemoryPool.malloc\u001b[39m\u001b[34m()\u001b[39m\n",
      "\u001b[36mFile \u001b[39m\u001b[32mcupy/cuda/memory.pyx:1271\u001b[39m, in \u001b[36mcupy.cuda.memory.SingleDeviceMemoryPool.malloc\u001b[39m\u001b[34m()\u001b[39m\n",
      "\u001b[36mFile \u001b[39m\u001b[32mcupy/cuda/memory.pyx:1292\u001b[39m, in \u001b[36mcupy.cuda.memory.SingleDeviceMemoryPool._malloc\u001b[39m\u001b[34m()\u001b[39m\n",
      "\u001b[36mFile \u001b[39m\u001b[32mcupy/cuda/memory.pyx:1537\u001b[39m, in \u001b[36mcupy.cuda.memory.SingleDeviceMemoryPool._try_malloc\u001b[39m\u001b[34m()\u001b[39m\n",
      "\u001b[36mFile \u001b[39m\u001b[32mcupy/cuda/memory.pyx:1540\u001b[39m, in \u001b[36mcupy.cuda.memory.SingleDeviceMemoryPool._try_malloc\u001b[39m\u001b[34m()\u001b[39m\n",
      "\u001b[31mOutOfMemoryError\u001b[39m: Out of memory allocating 16,384,000,000 bytes (allocated so far: 578,327,552 bytes)."
     ]
    }
   ],
   "source": [
    "telescope = poppy.OpticalSystem(name=\"Gaia\", oversample=1000, verbose=True)\n",
    "\n",
    "telescope.add_pupil(M1)\n",
    "# telescope.add_pupil(M2)\n",
    "\n",
    "# oversampled sky\n",
    "telescope.add_detector(name=\"AF CCD\", pixelscale=0.001*1000*(u.arcsec/u.pixel), fov_arcsec=4000*u.arcsec)\n",
    "\n",
    "psf = telescope.calc_psf(progressbar=True, return_intermediates=True, return_final=True, source={'wavelengths': Gpb['lambda'], 'weights': weights['G']})"
   ]
  },
  {
   "cell_type": "code",
   "execution_count": 30,
   "id": "53ed7cf7",
   "metadata": {},
   "outputs": [
    {
     "data": {
      "text/plain": [
       "<matplotlib.image.AxesImage at 0x75b9ec0ac140>"
      ]
     },
     "execution_count": 30,
     "metadata": {},
     "output_type": "execute_result"
    }
   ],
   "source": [
    "plt.imshow(psf[0][0].data, origin='lower', cmap='inferno')"
   ]
  },
  {
   "cell_type": "code",
   "execution_count": null,
   "id": "15c92d92",
   "metadata": {},
   "outputs": [],
   "source": [
    "ccd = poppy.OpticalSystem(name=\"CCD\", oversample=4, verbose=True)\n",
    "ccd.add_pupil(M1)\n",
    "ccd.add_detector(name=\"CCD\", pixelscale=0.059*4*(u.arcsec/u.pixel), fov_arcsec=6*u.arcsec)\n",
    "\n",
    "psf_ccd = ccd.calc_psf(progressbar=True, return_final=True, source={'wavelengths': Gpb['lambda'], 'weights': weights['G']})\n",
    "ccd_psf = psf_ccd[0][0].data\n",
    "ccd_psf = poppy.utils.rebin_array(ccd_psf, (1,3))\n",
    "\n",
    "plt.figure(figsize=(8,8))\n",
    "plt.imshow(ccd_psf, origin='lower', cmap='inferno')\n",
    "plt.colorbar(shrink=0.8, label='Intensity')\n",
    "plt.title(\"CCD PSF\")\n",
    "plt.xlabel(\"Pixels\")\n",
    "plt.ylabel(\"Pixels\")\n",
    "plt.show()"
   ]
  },
  {
   "cell_type": "code",
   "execution_count": 23,
   "id": "dbcfc4cf",
   "metadata": {},
   "outputs": [],
   "source": [
    "psf_1 = load_fits('data/simulations/PSFs/0.25mas_res/G_psf.fits')"
   ]
  },
  {
   "cell_type": "code",
   "execution_count": 27,
   "id": "d2737287",
   "metadata": {},
   "outputs": [
    {
     "data": {
      "text/plain": [
       "<matplotlib.image.AxesImage at 0x75b9c9096480>"
      ]
     },
     "execution_count": 27,
     "metadata": {},
     "output_type": "execute_result"
    }
   ],
   "source": [
    "plt.figure(figsize=(10,10))\n",
    "plt.imshow(poppy.utils.rebin_array(psf_1, (59,177)), origin='lower', cmap='inferno')"
   ]
  },
  {
   "cell_type": "code",
   "execution_count": 28,
   "id": "e2fbf224",
   "metadata": {},
   "outputs": [
    {
     "data": {
      "text/plain": [
       "<matplotlib.image.AxesImage at 0x75b9ec4512b0>"
      ]
     },
     "execution_count": 28,
     "metadata": {},
     "output_type": "execute_result"
    }
   ],
   "source": [
    "plt.figure(figsize=(10,10))\n",
    "plt.imshow(psf_1, origin='lower', cmap='inferno')"
   ]
  },
  {
   "cell_type": "code",
   "execution_count": null,
   "id": "5808bbe5",
   "metadata": {},
   "outputs": [],
   "source": []
  }
 ],
 "metadata": {
  "kernelspec": {
   "display_name": "base",
   "language": "python",
   "name": "python3"
  },
  "language_info": {
   "codemirror_mode": {
    "name": "ipython",
    "version": 3
   },
   "file_extension": ".py",
   "mimetype": "text/x-python",
   "name": "python",
   "nbconvert_exporter": "python",
   "pygments_lexer": "ipython3",
   "version": "3.12.10"
  }
 },
 "nbformat": 4,
 "nbformat_minor": 5
}
