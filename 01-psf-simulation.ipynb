{
 "cells": [
  {
   "cell_type": "markdown",
   "id": "eb75744c",
   "metadata": {},
   "source": [
    "# GAIA PSF Simulation\n",
    "\n",
    "First attempt to simulate close binary stars observation using the gaia telescope. The latter is imagined as a rectangular pupil, with no pixel binning or aberrations"
   ]
  },
  {
   "cell_type": "markdown",
   "id": "d2e0a393",
   "metadata": {},
   "source": [
    "#### Initialization"
   ]
  },
  {
   "cell_type": "code",
   "execution_count": 1,
   "id": "a1966bb3",
   "metadata": {},
   "outputs": [],
   "source": [
    "# %matplotlib qt"
   ]
  },
  {
   "cell_type": "code",
   "execution_count": 2,
   "id": "a3be17dd",
   "metadata": {},
   "outputs": [],
   "source": [
    "import logging\n",
    "logging.basicConfig(level=logging.INFO, format=' - %(levelname)s - %(message)s')"
   ]
  },
  {
   "cell_type": "code",
   "execution_count": 3,
   "id": "c75cb6ed",
   "metadata": {},
   "outputs": [
    {
     "name": "stderr",
     "output_type": "stream",
     "text": [
      " - INFO - Note: detected 96 virtual cores but NumExpr set to maximum of 64, check \"NUMEXPR_MAX_THREADS\" environment variable.\n",
      " - INFO - Note: NumExpr detected 96 cores but \"NUMEXPR_MAX_THREADS\" not set, so enforcing safe limit of 16.\n",
      " - INFO - NumExpr defaulting to 16 threads.\n",
      "/home/pietrof/miniconda3/lib/python3.13/site-packages/cupyx/jit/_interface.py:173: FutureWarning: cupyx.jit.rawkernel is experimental. The interface can change in the future.\n",
      "  cupy._util.experimental('cupyx.jit.rawkernel')\n"
     ]
    },
    {
     "name": "stdout",
     "output_type": "stream",
     "text": [
      "\n",
      "\n",
      "[XuPy] Multiple GPUs detected:\n",
      "       - gpu_id 0 : NVIDIA L40S | Memory = 45487.75 MB | Compute Capability = 8.9\n",
      "       - gpu_id 1 : NVIDIA L40S | Memory = 45487.75 MB | Compute Capability = 8.9\n",
      "       Using CuPy 13.4.1 for acceleration.\n"
     ]
    }
   ],
   "source": [
    "import poppy\n",
    "import xupy as xp\n",
    "from xupy import typing as xt\n",
    "import astropy.units as u\n",
    "from astropy import convolution as c\n",
    "from astropy.io import fits\n",
    "from astropy.table import QTable\n",
    "from matplotlib import pyplot as plt\n",
    "from opticalib import load_fits\n",
    "\n",
    "Gpb = QTable.read(\"data/gaiaDR3passband.fits\")\n",
    "weights = Gpb.filled(0)\n",
    "\n",
    "def rebinned(psf: fits.HDUList | xt.ArrayLike, rebin_factor: int) -> fits.HDUList:\n",
    "    \"\"\"\n",
    "    Rebin PSF by a given factor, following Gaia's pixel scale (1:3 ratio).\n",
    "    \"\"\"\n",
    "    if isinstance(psf, fits.HDUList):\n",
    "        psf = psf[0].data\n",
    "    px_ratio = (rebin_factor, 3*rebin_factor)\n",
    "    return poppy.utils.rebin_array(psf, px_ratio)"
   ]
  },
  {
   "cell_type": "markdown",
   "id": "1548de09",
   "metadata": {},
   "source": [
    "```py\n",
    "poppy.conf.use_multiprocessing = False\n",
    "poppy.conf.n_processes = 20\n",
    "poppy.conf.double_precision = False\n",
    "\n",
    "M1 = poppy.RectangleAperture(name=\"Primary Mirror\", width=1.45*u.m, height=0.5*u.m)\n",
    "M2 = poppy.RectangleAperture(name=\"Beam Collimator / Secondary Mirror\",width=0.35*u.m, height=0.2*u.m)\n",
    "telescope = poppy.OpticalSystem(name=\"Gaia\", oversample=1, verbose=True)\n",
    "\n",
    "telescope.add_pupil(M1)\n",
    "telescope.add_detector(name=\"SkyPLANE\", pixelscale=0.001*(u.arcsec/u.pixel), fov_arcsec=1*u.arcsec, oversample=10)\n",
    "\n",
    "psf = telescope.calc_psf(progressbar=True, return_final=True, source={'wavelengths': Gpb['lambda'], 'weights': weights['G']})"
   ]
  },
  {
   "cell_type": "markdown",
   "id": "1c3cc5d5",
   "metadata": {},
   "source": [
    "## Got The PSF: Now on to the convolution"
   ]
  },
  {
   "cell_type": "code",
   "execution_count": 4,
   "id": "e273dcf8",
   "metadata": {},
   "outputs": [],
   "source": [
    "from simulator import BinarySystem, CCD"
   ]
  },
  {
   "cell_type": "markdown",
   "id": "e0a5bd5b",
   "metadata": {},
   "source": [
    "#### Creating the Binary star system"
   ]
  },
  {
   "cell_type": "code",
   "execution_count": 5,
   "id": "bd13c044",
   "metadata": {},
   "outputs": [],
   "source": [
    "bs = BinarySystem(M1=5, M2=7, distance=200)\n",
    "\n",
    "bs._band_flux()\n",
    "bs.create_raw_binary_cube(collecting_area=1.45*0.5*u.m**2,t_integration=4.42*u.s, shape=(440,440))\n"
   ]
  },
  {
   "cell_type": "markdown",
   "id": "6ba1c54c",
   "metadata": {},
   "source": [
    "#### Loading the PSF and creating the CCD"
   ]
  },
  {
   "cell_type": "code",
   "execution_count": 6,
   "id": "2061e768",
   "metadata": {},
   "outputs": [
    {
     "name": "stdout",
     "output_type": "stream",
     "text": [
      "SIMPLE: True\n",
      "BITPIX: -32\n",
      "NAXIS: 2\n",
      "NAXIS1: 10000\n",
      "NAXIS2: 10000\n",
      "EXTEND: True\n",
      "PLANE1: Wavefront Intensity\n",
      "DIFFLMT: 0.04303385928527069\n",
      "OVERSAMP: 1\n",
      "DET_SAMP: 1\n",
      "PIXELSCL: 0.0001\n",
      "FOV: 1.0\n",
      "FFTTYPE: numpy.fft\n",
      "NORMALIZ: first\n",
      "HISTORY: Created wavefront: wavelength=320 nm, diam=1.534 m\n",
      " using array size (1024, 1024)\n",
      "  Multiplied WF by phasor for Pupil plane: Primary Mirror\n",
      "  Propagating wavefront to Detector plane: SkyPLANE (1000x1000 pixels, 0\n",
      ".001 arcsec / pix).\n",
      "    Propagating w/ MFT: 0.0001 arcsec / pix     fov=23.238 lam/D    npix\n",
      "=10000\n",
      "Calculation completed in 127.198 seconds\n"
     ]
    }
   ],
   "source": [
    "psf_file = \"data/simulations/PSFs/gaia_psf_2.fits\"\n",
    "psf, psf_H = load_fits(psf_file, return_header=True)\n",
    "\n",
    "for key in psf_H.keys():\n",
    "    if key == 'HISTORY':\n",
    "        print(f\"{key}: {psf_H[key]}\")\n",
    "        break\n",
    "    if 'WAVE' not in key and 'WGHT' not in key:\n",
    "        print(f\"{key}: {psf_H[key]}\")\n",
    "\n",
    "ccd = CCD(psf_file)"
   ]
  },
  {
   "cell_type": "markdown",
   "id": "1efb90eb",
   "metadata": {},
   "source": [
    "**First try at observation**"
   ]
  },
  {
   "cell_type": "code",
   "execution_count": 7,
   "id": "3a38bd1b",
   "metadata": {},
   "outputs": [],
   "source": [
    "img = bs.map[0]\n",
    "psf = ccd.psf.copy()"
   ]
  },
  {
   "cell_type": "code",
   "execution_count": 8,
   "id": "5b9533ce",
   "metadata": {},
   "outputs": [],
   "source": [
    "img_g = xp.asarray(img, dtype=xp.float)\n",
    "psf_g = xp.asarray(psf, dtype=xp.float)\n",
    "\n",
    "xdiff = psf_g.shape[1] - img_g.shape[1]\n",
    "ydiff = psf_g.shape[0] - img_g.shape[0]\n",
    "img_g = xp.pad(img_g, ((ydiff//2, ydiff//2), (xdiff//2, xdiff//2)), mode='constant')"
   ]
  },
  {
   "cell_type": "code",
   "execution_count": 9,
   "id": "377918f4",
   "metadata": {},
   "outputs": [
    {
     "ename": "AttributeError",
     "evalue": "module 'xupy' has no attribute 'ma'",
     "output_type": "error",
     "traceback": [
      "\u001b[31m---------------------------------------------------------------------------\u001b[39m",
      "\u001b[31mAttributeError\u001b[39m                            Traceback (most recent call last)",
      "\u001b[36mCell\u001b[39m\u001b[36m \u001b[39m\u001b[32mIn[9]\u001b[39m\u001b[32m, line 1\u001b[39m\n\u001b[32m----> \u001b[39m\u001b[32m1\u001b[39m \u001b[43mc\u001b[49m\u001b[43m.\u001b[49m\u001b[43mconvolve_fft\u001b[49m\u001b[43m(\u001b[49m\u001b[43mimg_g\u001b[49m\u001b[43m,\u001b[49m\u001b[43m \u001b[49m\u001b[43mpsf_g\u001b[49m\u001b[43m,\u001b[49m\u001b[43m \u001b[49m\u001b[43mnormalize_kernel\u001b[49m\u001b[43m=\u001b[49m\u001b[38;5;28;43;01mTrue\u001b[39;49;00m\u001b[43m,\u001b[49m\u001b[43m \u001b[49m\u001b[43mboundary\u001b[49m\u001b[43m=\u001b[49m\u001b[33;43m'\u001b[39;49m\u001b[33;43mwrap\u001b[39;49m\u001b[33;43m'\u001b[39;49m\u001b[43m,\u001b[49m\u001b[43m \u001b[49m\u001b[43mnan_treatment\u001b[49m\u001b[43m=\u001b[49m\u001b[33;43m'\u001b[39;49m\u001b[33;43mfill\u001b[39;49m\u001b[33;43m'\u001b[39;49m\u001b[43m,\u001b[49m\u001b[43m \u001b[49m\u001b[43mfill_value\u001b[49m\u001b[43m=\u001b[49m\u001b[32;43m0.0\u001b[39;49m\u001b[43m)\u001b[49m\n",
      "\u001b[36mFile \u001b[39m\u001b[32m~/miniconda3/lib/python3.13/site-packages/astropy/nddata/decorators.py:254\u001b[39m, in \u001b[36msupport_nddata.<locals>.support_nddata_decorator.<locals>.wrapper\u001b[39m\u001b[34m(*args, **kwargs)\u001b[39m\n\u001b[32m    251\u001b[39m \u001b[38;5;66;03m# Need to apply defaults so that any positional only arguments are\u001b[39;00m\n\u001b[32m    252\u001b[39m \u001b[38;5;66;03m# passed as positional properly\u001b[39;00m\n\u001b[32m    253\u001b[39m bound_args.apply_defaults()\n\u001b[32m--> \u001b[39m\u001b[32m254\u001b[39m result = \u001b[43mfunc\u001b[49m\u001b[43m(\u001b[49m\u001b[43m*\u001b[49m\u001b[43mbound_args\u001b[49m\u001b[43m.\u001b[49m\u001b[43margs\u001b[49m\u001b[43m,\u001b[49m\u001b[43m \u001b[49m\u001b[43m*\u001b[49m\u001b[43m*\u001b[49m\u001b[43mbound_args\u001b[49m\u001b[43m.\u001b[49m\u001b[43mkwargs\u001b[49m\u001b[43m)\u001b[49m\n\u001b[32m    256\u001b[39m \u001b[38;5;28;01mif\u001b[39;00m unpack \u001b[38;5;129;01mand\u001b[39;00m repack:\n\u001b[32m    257\u001b[39m     \u001b[38;5;66;03m# If there are multiple required returned arguments make sure\u001b[39;00m\n\u001b[32m    258\u001b[39m     \u001b[38;5;66;03m# the result is a tuple (because we don't want to unpack\u001b[39;00m\n\u001b[32m    259\u001b[39m     \u001b[38;5;66;03m# numpy arrays or compare their length, never!) and has the\u001b[39;00m\n\u001b[32m    260\u001b[39m     \u001b[38;5;66;03m# same length.\u001b[39;00m\n\u001b[32m    261\u001b[39m     \u001b[38;5;28;01mif\u001b[39;00m \u001b[38;5;28mlen\u001b[39m(returns) > \u001b[32m1\u001b[39m:\n",
      "\u001b[36mFile \u001b[39m\u001b[32m~/miniconda3/lib/python3.13/site-packages/astropy/convolution/convolve.py:709\u001b[39m, in \u001b[36mconvolve_fft\u001b[39m\u001b[34m(array, kernel, boundary, fill_value, nan_treatment, normalize_kernel, normalization_zero_tol, preserve_nan, mask, crop, return_fft, fft_pad, psf_pad, min_wt, allow_huge, fftn, ifftn, complex_dtype, dealias)\u001b[39m\n\u001b[32m    705\u001b[39m array_unit = \u001b[38;5;28mgetattr\u001b[39m(array, \u001b[33m\"\u001b[39m\u001b[33munit\u001b[39m\u001b[33m\"\u001b[39m, \u001b[38;5;28;01mNone\u001b[39;00m)\n\u001b[32m    707\u001b[39m \u001b[38;5;66;03m# Convert array dtype to complex\u001b[39;00m\n\u001b[32m    708\u001b[39m \u001b[38;5;66;03m# and ensure that list inputs become arrays\u001b[39;00m\n\u001b[32m--> \u001b[39m\u001b[32m709\u001b[39m array = \u001b[43m_copy_input_if_needed\u001b[49m\u001b[43m(\u001b[49m\n\u001b[32m    710\u001b[39m \u001b[43m    \u001b[49m\u001b[43marray\u001b[49m\u001b[43m,\u001b[49m\n\u001b[32m    711\u001b[39m \u001b[43m    \u001b[49m\u001b[43mdtype\u001b[49m\u001b[43m=\u001b[49m\u001b[38;5;28;43mcomplex\u001b[39;49m\u001b[43m,\u001b[49m\n\u001b[32m    712\u001b[39m \u001b[43m    \u001b[49m\u001b[43morder\u001b[49m\u001b[43m=\u001b[49m\u001b[33;43m\"\u001b[39;49m\u001b[33;43mC\u001b[39;49m\u001b[33;43m\"\u001b[39;49m\u001b[43m,\u001b[49m\n\u001b[32m    713\u001b[39m \u001b[43m    \u001b[49m\u001b[43mnan_treatment\u001b[49m\u001b[43m=\u001b[49m\u001b[43mnan_treatment\u001b[49m\u001b[43m,\u001b[49m\n\u001b[32m    714\u001b[39m \u001b[43m    \u001b[49m\u001b[43mmask\u001b[49m\u001b[43m=\u001b[49m\u001b[43mmask\u001b[49m\u001b[43m,\u001b[49m\n\u001b[32m    715\u001b[39m \u001b[43m    \u001b[49m\u001b[43mfill_value\u001b[49m\u001b[43m=\u001b[49m\u001b[43mnp\u001b[49m\u001b[43m.\u001b[49m\u001b[43mnan\u001b[49m\u001b[43m,\u001b[49m\n\u001b[32m    716\u001b[39m \u001b[43m\u001b[49m\u001b[43m)\u001b[49m\n\u001b[32m    717\u001b[39m kernel = _copy_input_if_needed(\n\u001b[32m    718\u001b[39m     kernel, dtype=\u001b[38;5;28mcomplex\u001b[39m, order=\u001b[33m\"\u001b[39m\u001b[33mC\u001b[39m\u001b[33m\"\u001b[39m, nan_treatment=\u001b[38;5;28;01mNone\u001b[39;00m, mask=\u001b[38;5;28;01mNone\u001b[39;00m, fill_value=\u001b[32m0\u001b[39m\n\u001b[32m    719\u001b[39m )\n\u001b[32m    721\u001b[39m \u001b[38;5;66;03m# Check that the number of dimensions is compatible\u001b[39;00m\n",
      "\u001b[36mFile \u001b[39m\u001b[32m~/miniconda3/lib/python3.13/site-packages/astropy/convolution/convolve.py:93\u001b[39m, in \u001b[36m_copy_input_if_needed\u001b[39m\u001b[34m(input, dtype, order, nan_treatment, mask, fill_value)\u001b[39m\n\u001b[32m     88\u001b[39m \u001b[38;5;28;01mtry\u001b[39;00m:\n\u001b[32m     89\u001b[39m     \u001b[38;5;66;03m# Anything that's masked must be turned into NaNs for the interpolation.\u001b[39;00m\n\u001b[32m     90\u001b[39m     \u001b[38;5;66;03m# This requires copying. A copy is also needed for nan_treatment == 'fill'\u001b[39;00m\n\u001b[32m     91\u001b[39m     \u001b[38;5;66;03m# A copy prevents possible function side-effects of the input array.\u001b[39;00m\n\u001b[32m     92\u001b[39m     \u001b[38;5;28;01mif\u001b[39;00m nan_treatment == \u001b[33m\"\u001b[39m\u001b[33mfill\u001b[39m\u001b[33m\"\u001b[39m \u001b[38;5;129;01mor\u001b[39;00m np.ma.is_masked(\u001b[38;5;28minput\u001b[39m) \u001b[38;5;129;01mor\u001b[39;00m mask \u001b[38;5;129;01mis\u001b[39;00m \u001b[38;5;129;01mnot\u001b[39;00m \u001b[38;5;28;01mNone\u001b[39;00m:\n\u001b[32m---> \u001b[39m\u001b[32m93\u001b[39m         \u001b[38;5;28;01mif\u001b[39;00m \u001b[43mnp\u001b[49m\u001b[43m.\u001b[49m\u001b[43mma\u001b[49m.is_masked(\u001b[38;5;28minput\u001b[39m):\n\u001b[32m     94\u001b[39m             \u001b[38;5;66;03m# ``np.ma.maskedarray.filled()`` returns a copy, however there\u001b[39;00m\n\u001b[32m     95\u001b[39m             \u001b[38;5;66;03m# is no way to specify the return type or order etc. In addition\u001b[39;00m\n\u001b[32m     96\u001b[39m             \u001b[38;5;66;03m# ``np.nan`` is a ``float`` and there is no conversion to an\u001b[39;00m\n\u001b[32m     97\u001b[39m             \u001b[38;5;66;03m# ``int`` type. Therefore, a pre-fill copy is needed for non\u001b[39;00m\n\u001b[32m     98\u001b[39m             \u001b[38;5;66;03m# ``float`` masked arrays. ``asanyarray`` is needed to retain\u001b[39;00m\n\u001b[32m     99\u001b[39m             \u001b[38;5;66;03m# ``np.ma.maskedarray.filled()``.\u001b[39;00m\n\u001b[32m    100\u001b[39m             \u001b[38;5;66;03m# A copy is made if and only if order isn't already correct.\u001b[39;00m\n\u001b[32m    101\u001b[39m             output = np.asanyarray(\u001b[38;5;28minput\u001b[39m, dtype=dtype, order=order)\n\u001b[32m    102\u001b[39m             output = output.filled(fill_value)\n",
      "\u001b[31mAttributeError\u001b[39m: module 'xupy' has no attribute 'ma'"
     ]
    }
   ],
   "source": [
    "c.convolve_fft(img_g, psf_g, normalize_kernel=True, boundary='wrap', nan_treatment='fill', fill_value=0.0)"
   ]
  },
  {
   "cell_type": "markdown",
   "id": "3f1e7f05",
   "metadata": {},
   "source": [
    "### GPU FFT-Convolve"
   ]
  },
  {
   "cell_type": "code",
   "execution_count": 12,
   "id": "1e12da65",
   "metadata": {},
   "outputs": [],
   "source": [
    "img1 = xp.fft.fftn(img_g)\n",
    "psffft = xp.fft.fftn(xp.fft.ifftshift(psf_g))\n",
    "\n",
    "fftmult = img1 * psffft\n",
    "conv_img = xp.fft.ifftn(fftmult).real"
   ]
  },
  {
   "cell_type": "code",
   "execution_count": 13,
   "id": "855e43cd",
   "metadata": {},
   "outputs": [
    {
     "data": {
      "text/plain": [
       "<matplotlib.image.AxesImage at 0x7f0f3e5f70e0>"
      ]
     },
     "execution_count": 13,
     "metadata": {},
     "output_type": "execute_result"
    },
    {
     "data": {
      "image/png": "[encoded data removed]",
      "text/plain": [
       "<Figure size 640x480 with 1 Axes>"
      ]
     },
     "metadata": {},
     "output_type": "display_data"
    }
   ],
   "source": [
    "plt.imshow(conv_img.get())"
   ]
  },
  {
   "cell_type": "code",
   "execution_count": null,
   "id": "380cdde9",
   "metadata": {},
   "outputs": [],
   "source": []
  }
 ],
 "metadata": {
  "kernelspec": {
   "display_name": "base",
   "language": "python",
   "name": "python3"
  },
  "language_info": {
   "codemirror_mode": {
    "name": "ipython",
    "version": 3
   },
   "file_extension": ".py",
   "mimetype": "text/x-python",
   "name": "python",
   "nbconvert_exporter": "python",
   "pygments_lexer": "ipython3",
   "version": "3.13.2"
  }
 },
 "nbformat": 4,
 "nbformat_minor": 5
}
