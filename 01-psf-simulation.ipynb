{
 "cells": [
  {
   "cell_type": "markdown",
   "id": "eb75744c",
   "metadata": {},
   "source": [
    "# GAIA PSF Simulation\n",
    "\n",
    "First attempt to simulate close binary stars observation using the gaia telescope. The latter is imagined as a rectangular pupil, with no pixel binning or aberrations"
   ]
  },
  {
   "cell_type": "markdown",
   "id": "d2e0a393",
   "metadata": {},
   "source": [
    "#### Initialization"
   ]
  },
  {
   "cell_type": "code",
   "execution_count": 1,
   "id": "23cd5532",
   "metadata": {},
   "outputs": [
    {
     "name": "stderr",
     "output_type": "stream",
     "text": [
      "QSocketNotifier: Can only be used with threads started with QThread\n"
     ]
    }
   ],
   "source": [
    "%matplotlib qt"
   ]
  },
  {
   "cell_type": "code",
   "execution_count": 2,
   "id": "a1966bb3",
   "metadata": {},
   "outputs": [],
   "source": [
    "# %matplotlib qt\n",
    "import logging\n",
    "# logging.basicConfig(level=logging.WARNING, format=' - %(levelname)s - %(message)s')"
   ]
  },
  {
   "cell_type": "code",
   "execution_count": 3,
   "id": "a3be17dd",
   "metadata": {},
   "outputs": [],
   "source": [
    "import functools\n",
    "import time\n",
    "\n",
    "def timer(func):\n",
    "    \"\"\"Decorator to time the execution of a function.\"\"\"\n",
    "\n",
    "    @functools.wraps(func)\n",
    "    def wrapper(*args, **kwargs):\n",
    "        start_time = time.perf_counter()\n",
    "        result = func(*args, **kwargs)\n",
    "        end_time = time.perf_counter()\n",
    "        h = (end_time - start_time) // 3600\n",
    "        m = (end_time - start_time) % 3600 // 60\n",
    "        s = (end_time - start_time) % 60\n",
    "        print(f\"Execution time: {int(h):02d}:{int(m):02d}:{s:.2f} (h:m:s)\")\n",
    "        return result\n",
    "\n",
    "    return wrapper"
   ]
  },
  {
   "cell_type": "code",
   "execution_count": 4,
   "id": "c75cb6ed",
   "metadata": {},
   "outputs": [
    {
     "name": "stderr",
     "output_type": "stream",
     "text": [
      "/home/pietrof/miniforge3/lib/python3.12/site-packages/cupyx/jit/_interface.py:173: FutureWarning: cupyx.jit.rawkernel is experimental. The interface can change in the future.\n",
      "  cupy._util.experimental('cupyx.jit.rawkernel')\n"
     ]
    },
    {
     "name": "stdout",
     "output_type": "stream",
     "text": [
      "\n",
      "[XuPy] Device 0 available - GPU : `NVIDIA GeForce RTX 5080 Laptop GPU`\n",
      "       Memory = 16230.98 MB | Compute Capability = 12.0\n",
      "       Using CuPy 13.5.1 for acceleration.\n"
     ]
    }
   ],
   "source": [
    "import poppy\n",
    "import xupy as xp\n",
    "from xupy import typing as xt\n",
    "import astropy.units as u\n",
    "from astropy import convolution as c\n",
    "from astropy.io import fits\n",
    "from astropy.table import QTable\n",
    "from matplotlib import pyplot as plt\n",
    "from opticalib import load_fits\n",
    "from simulator import BinarySystem, CCD\n",
    "\n",
    "Gpb = QTable.read(\"data/gaiaDR3passband.fits\")\n",
    "weights = Gpb.filled(0)\n",
    "\n",
    "def rebinned(psf: fits.HDUList | xt.ArrayLike, rebin_factor: int) -> fits.HDUList:\n",
    "    \"\"\"\n",
    "    Rebin PSF by a given factor, following Gaia's pixel scale (1:3 ratio).\n",
    "    \"\"\"\n",
    "    if isinstance(psf, fits.HDUList):\n",
    "        psf = psf[0].data\n",
    "    px_ratio = (rebin_factor, 3*rebin_factor)\n",
    "    return poppy.utils.rebin_array(psf, px_ratio)"
   ]
  },
  {
   "cell_type": "markdown",
   "id": "1548de09",
   "metadata": {},
   "source": [
    "```py\n",
    "poppy.conf.use_multiprocessing = False\n",
    "poppy.conf.n_processes = 20\n",
    "poppy.conf.double_precision = False\n",
    "\n",
    "M1 = poppy.RectangleAperture(name=\"Primary Mirror\", height=1.45*u.m, width=0.5*u.m)\n",
    "M2 = poppy.RectangleAperture(name=\"Beam Collimator / Secondary Mirror\",width=0.35*u.m, height=0.2*u.m)\n",
    "telescope = poppy.OpticalSystem(name=\"Gaia\", oversample=1, verbose=True)\n",
    "\n",
    "telescope.add_pupil(M1)\n",
    "telescope.add_detector(name=\"SkyPLANE\", pixelscale=0.001*(u.arcsec/u.pixel), fov_pixels=1125, oversample=4)\n",
    "\n",
    "psf = telescope.calc_psf(progressbar=True, return_final=True, source={'wavelengths': Gpb['lambda'], 'weights': weights['G']})\n",
    "\n",
    "poppy.utils.display_psf(psf[0], title=\"Gaia PSF\", vmax=psf[0][0].data.max())\n",
    "psf[0].writeto(\"data/simulations/PSFs/20250922_2_gaia_psf.fits\", overwrite=True)"
   ]
  },
  {
   "cell_type": "markdown",
   "id": "1c3cc5d5",
   "metadata": {},
   "source": [
    "## Got The PSF: Now on to the convolution"
   ]
  },
  {
   "cell_type": "markdown",
   "id": "e0a5bd5b",
   "metadata": {},
   "source": [
    "#### Creating the **Binary Star System (BSS)** and the **CCD**"
   ]
  },
  {
   "cell_type": "code",
   "execution_count": 5,
   "id": "bd13c044",
   "metadata": {},
   "outputs": [
    {
     "ename": "MemoryError",
     "evalue": "Estimated memory (95.17 GB) exceeds 80% of available RAM (24.85 GB). Reduce shape or distance.",
     "output_type": "error",
     "traceback": [
      "\u001b[31m---------------------------------------------------------------------------\u001b[39m",
      "\u001b[31mMemoryError\u001b[39m                               Traceback (most recent call last)",
      "\u001b[36mCell\u001b[39m\u001b[36m \u001b[39m\u001b[32mIn[5]\u001b[39m\u001b[32m, line 5\u001b[39m\n\u001b[32m      2\u001b[39m ccd = CCD(psf=\u001b[33m\"\u001b[39m\u001b[33mdata/simulations/PSFs/20250922_2_gaia_psf.fits\u001b[39m\u001b[33m\"\u001b[39m)\n\u001b[32m      4\u001b[39m bs._band_flux()\n\u001b[32m----> \u001b[39m\u001b[32m5\u001b[39m \u001b[43mbs\u001b[49m\u001b[43m.\u001b[49m\u001b[43mcreate_raw_binary_cube\u001b[49m\u001b[43m(\u001b[49m\u001b[43mcollecting_area\u001b[49m\u001b[43m=\u001b[49m\u001b[32;43m1.45\u001b[39;49m\u001b[43m*\u001b[49m\u001b[32;43m0.5\u001b[39;49m\u001b[43m*\u001b[49m\u001b[43mu\u001b[49m\u001b[43m.\u001b[49m\u001b[43mm\u001b[49m\u001b[43m*\u001b[49m\u001b[43m*\u001b[49m\u001b[32;43m2\u001b[39;49m\u001b[43m,\u001b[49m\u001b[43mt_integration\u001b[49m\u001b[43m=\u001b[49m\u001b[32;43m4.42\u001b[39;49m\u001b[43m*\u001b[49m\u001b[43mu\u001b[49m\u001b[43m.\u001b[49m\u001b[43ms\u001b[49m\u001b[43m,\u001b[49m\u001b[43m \u001b[49m\u001b[43mshape\u001b[49m\u001b[43m=\u001b[49m\u001b[43mccd\u001b[49m\u001b[43m.\u001b[49m\u001b[43mpsf\u001b[49m\u001b[43m.\u001b[49m\u001b[43mshape\u001b[49m\u001b[43m)\u001b[49m\n",
      "\u001b[36mFile \u001b[39m\u001b[32m/mnt/nas/BINCAT/simulator.py:516\u001b[39m, in \u001b[36mBinarySystem.create_raw_binary_cube\u001b[39m\u001b[34m(self, collecting_area, t_integration, shape, out)\u001b[39m\n\u001b[32m    514\u001b[39m     available_ram_mb = psutil.virtual_memory().available / (\u001b[32m1024\u001b[39m**\u001b[32m2\u001b[39m*\u001b[32m1000\u001b[39m)\n\u001b[32m    515\u001b[39m     \u001b[38;5;28;01mif\u001b[39;00m estimated_memory_mb > available_ram_mb * \u001b[32m0.8\u001b[39m:  \u001b[38;5;66;03m# 80% threshold to prevent overflow\u001b[39;00m\n\u001b[32m--> \u001b[39m\u001b[32m516\u001b[39m         \u001b[38;5;28;01mraise\u001b[39;00m \u001b[38;5;167;01mMemoryError\u001b[39;00m(\u001b[33mf\u001b[39m\u001b[33m\"\u001b[39m\u001b[33mEstimated memory (\u001b[39m\u001b[38;5;132;01m{\u001b[39;00mestimated_memory_mb\u001b[38;5;132;01m:\u001b[39;00m\u001b[33m.2f\u001b[39m\u001b[38;5;132;01m}\u001b[39;00m\u001b[33m GB) exceeds 80% of available RAM (\u001b[39m\u001b[38;5;132;01m{\u001b[39;00mavailable_ram_mb\u001b[38;5;132;01m:\u001b[39;00m\u001b[33m.2f\u001b[39m\u001b[38;5;132;01m}\u001b[39;00m\u001b[33m GB). Reduce shape or distance.\u001b[39m\u001b[33m\"\u001b[39m)\n\u001b[32m    517\u001b[39m \u001b[38;5;28;01mexcept\u001b[39;00m \u001b[38;5;167;01mImportError\u001b[39;00m:\n\u001b[32m    518\u001b[39m     _l.log(\u001b[33m\"\u001b[39m\u001b[33mpsutil not available; skipping RAM check.\u001b[39m\u001b[33m\"\u001b[39m, level=\u001b[33m\"\u001b[39m\u001b[33mWARNING\u001b[39m\u001b[33m\"\u001b[39m)\n",
      "\u001b[31mMemoryError\u001b[39m: Estimated memory (95.17 GB) exceeds 80% of available RAM (24.85 GB). Reduce shape or distance."
     ]
    }
   ],
   "source": [
    "bs = BinarySystem(M1=7, M2=7, distance=200)\n",
    "ccd = CCD(psf=\"data/simulations/PSFs/20250922_2_gaia_psf.fits\")\n",
    "\n",
    "bs._band_flux()\n",
    "bs.create_raw_binary_cube(collecting_area=1.45*0.5*u.m**2,t_integration=4.42*u.s, shape=ccd.psf.shape)"
   ]
  },
  {
   "cell_type": "markdown",
   "id": "6ba1c54c",
   "metadata": {},
   "source": [
    "#### Loading the PSF and creating the CCD"
   ]
  },
  {
   "cell_type": "code",
   "execution_count": null,
   "id": "28cb94c7",
   "metadata": {},
   "outputs": [],
   "source": [
    "from astropy.visualization import ImageNormalize, MinMaxInterval, LogStretch\n",
    "norm = ImageNormalize(vmin=xp.np.nanmin(ccd.psf), vmax=xp.np.nanmax(ccd.psf), stretch=LogStretch(), interval=MinMaxInterval())\n",
    "plt.imshow(ccd.psf, origin='lower', cmap='viridis', norm=norm)\n",
    "plt.colorbar(label='Intensity')\n",
    "plt.title(f'Rebinned PSF : {ccd.psf.shape}')\n"
   ]
  },
  {
   "cell_type": "markdown",
   "id": "1efb90eb",
   "metadata": {},
   "source": [
    "**First try at observation**"
   ]
  },
  {
   "cell_type": "code",
   "execution_count": null,
   "id": "b3e5b078",
   "metadata": {},
   "outputs": [],
   "source": [
    "img = bs.map[0].copy()\n",
    "psf = ccd.psf.copy()\n",
    "\n",
    "cov_img_cpu = c.convolve_fft(img, psf, boundary='wrap', nan_treatment='fill', fill_value=0., allow_huge=True)"
   ]
  },
  {
   "cell_type": "code",
   "execution_count": null,
   "id": "8687a834",
   "metadata": {},
   "outputs": [],
   "source": [
    "plt.imshow(cov_img_cpu, origin='lower', cmap='viridis', aspect='auto')"
   ]
  },
  {
   "cell_type": "code",
   "execution_count": null,
   "id": "9934e5bc",
   "metadata": {},
   "outputs": [],
   "source": [
    "npsf = ccd.rebin_psf(cov_img_cpu, rebin_factor=1, axis_ratio=(3,1))"
   ]
  },
  {
   "cell_type": "code",
   "execution_count": null,
   "id": "96472610",
   "metadata": {},
   "outputs": [],
   "source": [
    "plt.plot(npsf[2])"
   ]
  },
  {
   "cell_type": "code",
   "execution_count": null,
   "id": "1386f39d",
   "metadata": {},
   "outputs": [],
   "source": [
    "plt.imshow(npsf[0], aspect='auto')"
   ]
  },
  {
   "cell_type": "markdown",
   "id": "3f1e7f05",
   "metadata": {},
   "source": [
    "### GPU FFT-Convolve"
   ]
  },
  {
   "cell_type": "code",
   "execution_count": null,
   "id": "1035fa88",
   "metadata": {},
   "outputs": [],
   "source": [
    "@timer\n",
    "def gpu_covfft(img, psf, dtype = xp.float):\n",
    "    img_g = xp.asarray(img, dtype=dtype)\n",
    "    psf_g = xp.asarray(psf, dtype=dtype)\n",
    "    img1 = xp.fft.fftn(img_g)\n",
    "    psffft = xp.fft.fftn(xp.fft.ifftshift(psf_g))\n",
    "    fftmult = img1 * psffft\n",
    "    cov_img_gpu = xp.fft.ifftn(fftmult).real\n",
    "    return cov_img_gpu\n",
    "\n",
    "@timer\n",
    "def cpu_covfft(img, psf):\n",
    "    img_c = img.copy()\n",
    "    psf_c = psf.copy()\n",
    "    cov_img_cpu = c.convolve_fft(\n",
    "        img_c, \n",
    "        psf_c, \n",
    "        normalize_kernel=True, \n",
    "        boundary='wrap', \n",
    "        nan_treatment='fill', \n",
    "        fill_value=0.0, \n",
    "        allow_huge=True\n",
    "    )\n",
    "    return cov_img_cpu"
   ]
  }
 ],
 "metadata": {
  "kernelspec": {
   "display_name": "base",
   "language": "python",
   "name": "python3"
  },
  "language_info": {
   "codemirror_mode": {
    "name": "ipython",
    "version": 3
   },
   "file_extension": ".py",
   "mimetype": "text/x-python",
   "name": "python",
   "nbconvert_exporter": "python",
   "pygments_lexer": "ipython3",
   "version": "3.12.10"
  }
 },
 "nbformat": 4,
 "nbformat_minor": 5
}
