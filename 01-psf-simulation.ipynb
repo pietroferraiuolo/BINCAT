{
 "cells": [
  {
   "cell_type": "markdown",
   "id": "eb75744c",
   "metadata": {},
   "source": [
    "# GAIA PSF Simulation\n",
    "\n",
    "First attempt to simulate close binary stars observation using the gaia telescope. The latter is imagined as a rectangular pupil, with no pixel binning or aberrations"
   ]
  },
  {
   "cell_type": "markdown",
   "id": "d2e0a393",
   "metadata": {},
   "source": [
    "#### Initialization"
   ]
  },
  {
   "cell_type": "code",
   "execution_count": 1,
   "id": "a1966bb3",
   "metadata": {},
   "outputs": [
    {
     "name": "stderr",
     "output_type": "stream",
     "text": [
      "QSocketNotifier: Can only be used with threads started with QThread\n"
     ]
    }
   ],
   "source": [
    "%matplotlib qt"
   ]
  },
  {
   "cell_type": "code",
   "execution_count": null,
   "id": "a3be17dd",
   "metadata": {},
   "outputs": [],
   "source": [
    "import logging\n",
    "logging.basicConfig(level=logging.INFO, format=' - %(levelname)s - %(message)s')"
   ]
  },
  {
   "cell_type": "code",
   "execution_count": 111,
   "id": "c75cb6ed",
   "metadata": {},
   "outputs": [],
   "source": [
    "from more_itertools import factor\n",
    "import poppy\n",
    "import xupy as xp\n",
    "from xupy import typing as xt\n",
    "import astropy.units as u\n",
    "from astropy.table import QTable\n",
    "from astropy.io import fits\n",
    "from matplotlib import pyplot as plt\n",
    "from astropy import convolution as c\n",
    "from opticalib import load_fits\n",
    "from poppy.utils import rebin_array\n",
    "\n",
    "Gpb = QTable.read(\"data/gaiaDR3passband.fits\")\n",
    "weights = Gpb.filled(0)\n",
    "\n",
    "def rebinned(psf: fits.HDUList | xt.ArrayLike, rebin_factor: int) -> fits.HDUList:\n",
    "    if isinstance(psf, fits.HDUList):\n",
    "        psf = psf[0].data\n",
    "    px_ratio = (rebin_factor, 3*rebin_factor)\n",
    "    return rebin_array(psf, px_ratio)"
   ]
  },
  {
   "cell_type": "code",
   "execution_count": 40,
   "id": "1548de09",
   "metadata": {},
   "outputs": [],
   "source": [
    "poppy.conf.use_multiprocessing = False\n",
    "poppy.conf.n_processes = 20\n",
    "poppy.conf.double_precision = False\n",
    "\n",
    "M1 = poppy.RectangleAperture(name=\"Primary Mirror\", width=1.45*u.m, height=0.5*u.m)\n",
    "M2 = poppy.RectangleAperture(name=\"Beam Collimator / Secondary Mirror\",width=0.35*u.m, height=0.2*u.m)"
   ]
  },
  {
   "cell_type": "code",
   "execution_count": null,
   "id": "c40d2c25",
   "metadata": {},
   "outputs": [],
   "source": [
    "telescope = poppy.OpticalSystem(name=\"Gaia\", oversample=1, verbose=True)\n",
    "\n",
    "telescope.add_pupil(M1)\n",
    "telescope.add_detector(name=\"SkyPLANE\", pixelscale=0.001*(u.arcsec/u.pixel), fov_arcsec=5*u.arcsec, oversample=2)\n",
    "\n",
    "psf = telescope.calc_psf(progressbar=True, return_final=True, source={'wavelengths': Gpb['lambda'], 'weights': weights['G']})"
   ]
  },
  {
   "cell_type": "code",
   "execution_count": null,
   "id": "39d6f657",
   "metadata": {},
   "outputs": [],
   "source": [
    "ccd_psf = rebinned(psf[0], rebin_factor=4)"
   ]
  },
  {
   "cell_type": "code",
   "execution_count": 117,
   "id": "0637d5ff",
   "metadata": {},
   "outputs": [
    {
     "data": {
      "text/plain": [
       "<matplotlib.colorbar.Colorbar at 0x7b939ef69310>"
      ]
     },
     "execution_count": 117,
     "metadata": {},
     "output_type": "execute_result"
    }
   ],
   "source": [
    "plt.imshow(ccd_psf, origin='lower', cmap='inferno')\n",
    "plt.colorbar()"
   ]
  },
  {
   "cell_type": "code",
   "execution_count": 34,
   "id": "15c92d92",
   "metadata": {},
   "outputs": [
    {
     "name": "stderr",
     "output_type": "stream",
     "text": [
      "  0%|                                                   | 0/781 [00:00<?, ?it/s]"
     ]
    },
    {
     "name": "stderr",
     "output_type": "stream",
     "text": [
      "100%|█████████████████████████████████████████| 781/781 [01:07<00:00, 11.58it/s]\n",
      "qt.qpa.wayland: Wayland does not support QWindow::requestActivate()\n",
      "qt.qpa.wayland: Wayland does not support QWindow::requestActivate()\n"
     ]
    }
   ],
   "source": [
    "ccd = poppy.OpticalSystem(name=\"CCD\", oversample=4, verbose=True)\n",
    "ccd.add_pupil(M1)\n",
    "ccd.add_detector(name=\"CCD\", pixelscale=0.059*(u.arcsec/u.pixel), fov_arcsec=6*u.arcsec, oversample=59)\n",
    "ccd.add_rotation(90)\n",
    "\n",
    "psf_ccd = ccd.calc_psf(progressbar=True, return_final=True, source={'wavelengths': Gpb['lambda'], 'weights': weights['G']})\n",
    "ccd_psf = psf_ccd[0][0].data\n",
    "ccd_psf = poppy.utils.rebin_array(ccd_psf, (1,3))\n",
    "\n",
    "plt.figure(figsize=(8,8))\n",
    "plt.imshow(ccd_psf, origin='lower', cmap='inferno')\n",
    "plt.colorbar(shrink=0.8, label='Intensity')\n",
    "plt.title(\"CCD PSF\")\n",
    "plt.xlabel(\"Pixels\")\n",
    "plt.ylabel(\"Pixels\")\n",
    "plt.show()"
   ]
  },
  {
   "cell_type": "code",
   "execution_count": 35,
   "id": "780d5702",
   "metadata": {},
   "outputs": [],
   "source": [
    "poppy.display_psf(psf_ccd[0], title='PSF on CCD')"
   ]
  },
  {
   "cell_type": "markdown",
   "id": "6ea5cbd5",
   "metadata": {},
   "source": [
    "# Prova"
   ]
  }
 ],
 "metadata": {
  "kernelspec": {
   "display_name": "base",
   "language": "python",
   "name": "python3"
  },
  "language_info": {
   "codemirror_mode": {
    "name": "ipython",
    "version": 3
   },
   "file_extension": ".py",
   "mimetype": "text/x-python",
   "name": "python",
   "nbconvert_exporter": "python",
   "pygments_lexer": "ipython3",
   "version": "3.12.10"
  }
 },
 "nbformat": 4,
 "nbformat_minor": 5
}
