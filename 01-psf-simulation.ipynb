{
 "cells": [
  {
   "cell_type": "markdown",
   "id": "eb75744c",
   "metadata": {},
   "source": [
    "# GAIA PSF Simulation\n",
    "\n",
    "First attempt to simulate close binary stars observation using the gaia telescope. The latter is imagined as a rectangular pupil, with no pixel binning or aberrations"
   ]
  },
  {
   "cell_type": "markdown",
   "id": "d2e0a393",
   "metadata": {},
   "source": [
    "#### Initialization"
   ]
  },
  {
   "cell_type": "code",
   "execution_count": 1,
   "id": "a1966bb3",
   "metadata": {},
   "outputs": [],
   "source": [
    "# %matplotlib qt"
   ]
  },
  {
   "cell_type": "code",
   "execution_count": 8,
   "id": "a3be17dd",
   "metadata": {},
   "outputs": [],
   "source": [
    "import logging\n",
    "logging.basicConfig(level=logging.INFO, format=' - %(levelname)s - %(message)s')"
   ]
  },
  {
   "cell_type": "code",
   "execution_count": 9,
   "id": "c75cb6ed",
   "metadata": {},
   "outputs": [],
   "source": [
    "import poppy\n",
    "import xupy as xp\n",
    "from xupy import typing as xt\n",
    "import astropy.units as u\n",
    "from astropy import convolution as c\n",
    "from astropy.io import fits\n",
    "from astropy.table import QTable\n",
    "from matplotlib import pyplot as plt\n",
    "from opticalib import load_fits\n",
    "\n",
    "Gpb = QTable.read(\"data/gaiaDR3passband.fits\")\n",
    "weights = Gpb.filled(0)\n",
    "\n",
    "def rebinned(psf: fits.HDUList | xt.ArrayLike, rebin_factor: int) -> fits.HDUList:\n",
    "    \"\"\"\n",
    "    Rebin PSF by a given factor, following Gaia's pixel scale (1:3 ratio).\n",
    "    \"\"\"\n",
    "    if isinstance(psf, fits.HDUList):\n",
    "        psf = psf[0].data\n",
    "    px_ratio = (rebin_factor, 3*rebin_factor)\n",
    "    return poppy.utils.rebin_array(psf, px_ratio)"
   ]
  },
  {
   "cell_type": "markdown",
   "id": "1548de09",
   "metadata": {},
   "source": [
    "```py\n",
    "poppy.conf.use_multiprocessing = False\n",
    "poppy.conf.n_processes = 20\n",
    "poppy.conf.double_precision = False\n",
    "\n",
    "M1 = poppy.RectangleAperture(name=\"Primary Mirror\", width=1.45*u.m, height=0.5*u.m)\n",
    "M2 = poppy.RectangleAperture(name=\"Beam Collimator / Secondary Mirror\",width=0.35*u.m, height=0.2*u.m)\n",
    "telescope = poppy.OpticalSystem(name=\"Gaia\", oversample=1, verbose=True)\n",
    "\n",
    "telescope.add_pupil(M1)\n",
    "telescope.add_detector(name=\"SkyPLANE\", pixelscale=0.001*(u.arcsec/u.pixel), fov_arcsec=1*u.arcsec, oversample=10)\n",
    "\n",
    "psf = telescope.calc_psf(progressbar=True, return_final=True, source={'wavelengths': Gpb['lambda'], 'weights': weights['G']})"
   ]
  },
  {
   "cell_type": "markdown",
   "id": "1c3cc5d5",
   "metadata": {},
   "source": [
    "## Got The PSF: Now on to the convolution"
   ]
  },
  {
   "cell_type": "code",
   "execution_count": 10,
   "id": "e273dcf8",
   "metadata": {},
   "outputs": [],
   "source": [
    "from simulator import BinarySystem, CCD"
   ]
  },
  {
   "cell_type": "markdown",
   "id": "e0a5bd5b",
   "metadata": {},
   "source": [
    "#### Creating the Binary star system"
   ]
  },
  {
   "cell_type": "code",
   "execution_count": 11,
   "id": "bd13c044",
   "metadata": {},
   "outputs": [],
   "source": [
    "bs = BinarySystem(M1=5, M2=7, distance=200)\n",
    "\n",
    "bs._band_flux()\n",
    "bs.create_raw_binary_cube(collecting_area=1.45*0.5*u.m**2,t_integration=4.42*u.s, shape=(440,440))\n"
   ]
  },
  {
   "cell_type": "markdown",
   "id": "6ba1c54c",
   "metadata": {},
   "source": [
    "#### Loading the PSF and creating the CCD"
   ]
  },
  {
   "cell_type": "code",
   "execution_count": 12,
   "id": "2061e768",
   "metadata": {},
   "outputs": [
    {
     "name": "stdout",
     "output_type": "stream",
     "text": [
      "SIMPLE: True\n",
      "BITPIX: -32\n",
      "NAXIS: 2\n",
      "NAXIS1: 10000\n",
      "NAXIS2: 10000\n",
      "EXTEND: True\n",
      "PLANE1: Wavefront Intensity\n",
      "DIFFLMT: 0.04303385928527069\n",
      "OVERSAMP: 1\n",
      "DET_SAMP: 1\n",
      "PIXELSCL: 0.0001\n",
      "FOV: 1.0\n",
      "FFTTYPE: numpy.fft\n",
      "NORMALIZ: first\n",
      "HISTORY: Created wavefront: wavelength=320 nm, diam=1.534 m\n",
      " using array size (1024, 1024)\n",
      "  Multiplied WF by phasor for Pupil plane: Primary Mirror\n",
      "  Propagating wavefront to Detector plane: SkyPLANE (1000x1000 pixels, 0\n",
      ".001 arcsec / pix).\n",
      "    Propagating w/ MFT: 0.0001 arcsec / pix     fov=23.238 lam/D    npix\n",
      "=10000\n",
      "Calculation completed in 127.198 seconds\n"
     ]
    }
   ],
   "source": [
    "psf_file = \"data/simulations/PSFs/gaia_psf_2.fits\"\n",
    "psf, psf_H = load_fits(psf_file, return_header=True)\n",
    "\n",
    "for key in psf_H.keys():\n",
    "    if key == 'HISTORY':\n",
    "        print(f\"{key}: {psf_H[key]}\")\n",
    "        break\n",
    "    if 'WAVE' not in key and 'WGHT' not in key:\n",
    "        print(f\"{key}: {psf_H[key]}\")\n",
    "\n",
    "ccd = CCD(psf_file)"
   ]
  },
  {
   "cell_type": "markdown",
   "id": "1efb90eb",
   "metadata": {},
   "source": [
    "**First try at observation**"
   ]
  },
  {
   "cell_type": "code",
   "execution_count": null,
   "id": "c8cfb837",
   "metadata": {},
   "outputs": [],
   "source": [
    "res = bs.observe(ccd)"
   ]
  },
  {
   "cell_type": "code",
   "execution_count": null,
   "id": "36cbb6be",
   "metadata": {},
   "outputs": [],
   "source": []
  }
 ],
 "metadata": {
  "kernelspec": {
   "display_name": "base",
   "language": "python",
   "name": "python3"
  },
  "language_info": {
   "codemirror_mode": {
    "name": "ipython",
    "version": 3
   },
   "file_extension": ".py",
   "mimetype": "text/x-python",
   "name": "python",
   "nbconvert_exporter": "python",
   "pygments_lexer": "ipython3",
   "version": "3.12.10"
  }
 },
 "nbformat": 4,
 "nbformat_minor": 5
}
