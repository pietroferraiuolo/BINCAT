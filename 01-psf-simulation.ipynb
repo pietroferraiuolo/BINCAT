{
 "cells": [
  {
   "cell_type": "markdown",
   "id": "eb75744c",
   "metadata": {},
   "source": [
    "# GAIA PSF Simulation\n",
    "\n",
    "First attempt to simulate close binary stars observation using the gaia telescope. The latter is imagined as a rectangular pupil, with no pixel binning or aberrations"
   ]
  },
  {
   "cell_type": "markdown",
   "id": "d2e0a393",
   "metadata": {},
   "source": [
    "#### Initialization"
   ]
  },
  {
   "cell_type": "code",
   "execution_count": 1,
   "id": "c75cb6ed",
   "metadata": {},
   "outputs": [
    {
     "name": "stderr",
     "output_type": "stream",
     "text": [
      "/home/pietrof/miniforge3/lib/python3.12/site-packages/cupyx/jit/_interface.py:173: FutureWarning: cupyx.jit.rawkernel is experimental. The interface can change in the future.\n",
      "  cupy._util.experimental('cupyx.jit.rawkernel')\n"
     ]
    }
   ],
   "source": [
    "import numpy as np\n",
    "import astropy.units as u\n",
    "from astropy.table import Table\n",
    "from matplotlib import pyplot as plt\n",
    "from simulator import GaiaTelescopeV0"
   ]
  },
  {
   "cell_type": "markdown",
   "id": "b32b307a",
   "metadata": {},
   "source": [
    "## The simulator"
   ]
  },
  {
   "cell_type": "markdown",
   "id": "3251dead",
   "metadata": {},
   "source": [
    "The idea of the `SimulatorV0` is to simply create a map of close point-like sources, spanning different angles and separations, to convolve with a constructed (very simplified) _Gaia_ PSF (created with `Poppy`)"
   ]
  },
  {
   "cell_type": "markdown",
   "id": "3c9a7f68",
   "metadata": {},
   "source": [
    "```python\n",
    "from scipy.ndimage import zoom\n",
    "\n",
    "def resample_sky_to_detector(sky_map, sky_pixscale, detector_shape, detector_pixscale):\n",
    "    \"\"\"\n",
    "    Resample the sky map to match the detector's pixel scale and shape.\n",
    "    \"\"\"\n",
    "    scale_factor = sky_pixscale / detector_pixscale\n",
    "    zoom_factors = (detector_shape[0] / sky_map.shape[0], detector_shape[1] / sky_map.shape[1])\n",
    "    resampled_sky = zoom(sky_map, zoom_factors, order=1)\n",
    "    return resampled_sky\n",
    "\n",
    "# Example usage:\n",
    "sky_pixscale = 0.01  # arcsec/pixel (sky map)\n",
    "detector_pixscale = 0.05  # arcsec/pixel (poppy)\n",
    "detector_shape = (128, 128)\n",
    "resampled_sky = resample_sky_to_detector(sky_map, sky_pixscale, detector_shape, detector_pixscale)"
   ]
  },
  {
   "cell_type": "code",
   "execution_count": 2,
   "id": "a969ba8f",
   "metadata": {},
   "outputs": [
    {
     "data": {
      "text/plain": [
       "           Gaia Telescope V0\n",
       "           -----------------\n",
       "          Aperture: 1.5 m x 0.5 m\n",
       "    Scansion speed: 59.96 arcsec / s\n",
       "    Orbital Period: 6.0 h\n",
       " Precession period: 63.0 d\n",
       "Wavelength for PSF: 5.5e-07 m\n",
       "\n",
       "          e2v™ CCD91-72\n",
       "          -------------\n",
       "            Band: Gaia_G\n",
       "      Pixel area: 300.0 um2\n",
       "     Pixel Scale: 59.0 x 177.0 mas / pix\n",
       "        CCD fov : 4500 x 1966  pix\n",
       "               -> 4.42 x 5.80 arcmin\n",
       "Integration time: 4.42 s\n",
       "    "
      ]
     },
     "execution_count": 2,
     "metadata": {},
     "output_type": "execute_result"
    }
   ],
   "source": [
    "gt = GaiaTelescopeV0()\n",
    "gt"
   ]
  },
  {
   "cell_type": "code",
   "execution_count": 19,
   "id": "68f7adc8",
   "metadata": {},
   "outputs": [],
   "source": [
    "cube = gt.ccd.create_raw_binary_cube(13,13,35, gt.ccd.pixel_area*4500*7, 4.42)"
   ]
  }
 ],
 "metadata": {
  "kernelspec": {
   "display_name": "base",
   "language": "python",
   "name": "python3"
  },
  "language_info": {
   "codemirror_mode": {
    "name": "ipython",
    "version": 3
   },
   "file_extension": ".py",
   "mimetype": "text/x-python",
   "name": "python",
   "nbconvert_exporter": "python",
   "pygments_lexer": "ipython3",
   "version": "3.12.10"
  }
 },
 "nbformat": 4,
 "nbformat_minor": 5
}
