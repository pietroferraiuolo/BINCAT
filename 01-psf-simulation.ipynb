{
 "cells": [
  {
   "cell_type": "markdown",
   "id": "eb75744c",
   "metadata": {},
   "source": [
    "# GAIA PSF Simulation\n",
    "\n",
    "First attempt to simulate close binary stars observation using the gaia telescope. The latter is imagined as a rectangular pupil, with no pixel binning or aberrations"
   ]
  },
  {
   "cell_type": "markdown",
   "id": "d2e0a393",
   "metadata": {},
   "source": [
    "#### Initialization"
   ]
  },
  {
   "cell_type": "code",
   "execution_count": 26,
   "id": "c75cb6ed",
   "metadata": {},
   "outputs": [
    {
     "data": {
      "text/latex": [
       "$\\mathrm{nm}$"
      ],
      "text/plain": [
       "Unit(\"nm\")"
      ]
     },
     "execution_count": 26,
     "metadata": {},
     "output_type": "execute_result"
    }
   ],
   "source": [
    "import poppy\n",
    "import numpy as np\n",
    "import astropy.units as u\n",
    "from astropy.table import QTable\n",
    "from matplotlib import pyplot as plt\n",
    "from astropy import convolution as c\n",
    "from simulator import GaiaTelescopeV0\n",
    "\n",
    "Gpb = QTable.read(\"data/gaiaDR3passband.fits\")\n",
    "\n",
    "Gpb['lambda'].unit"
   ]
  },
  {
   "cell_type": "code",
   "execution_count": 27,
   "id": "c40d2c25",
   "metadata": {},
   "outputs": [
    {
     "name": "stderr",
     "output_type": "stream",
     "text": [
      "  0%|                                                   | 0/780 [00:00<?, ?it/s]"
     ]
    },
    {
     "name": "stderr",
     "output_type": "stream",
     "text": [
      "  0%|                                         | 2/780 [00:13<1:26:14,  6.65s/it]\n"
     ]
    },
    {
     "ename": "KeyboardInterrupt",
     "evalue": "",
     "output_type": "error",
     "traceback": [
      "\u001b[31m---------------------------------------------------------------------------\u001b[39m",
      "\u001b[31mKeyboardInterrupt\u001b[39m                         Traceback (most recent call last)",
      "\u001b[36mCell\u001b[39m\u001b[36m \u001b[39m\u001b[32mIn[27]\u001b[39m\u001b[32m, line 8\u001b[39m\n\u001b[32m      5\u001b[39m \u001b[38;5;66;03m# telescope.add_pupil(M2)\u001b[39;00m\n\u001b[32m      6\u001b[39m \u001b[38;5;66;03m# oversampled sky\u001b[39;00m\n\u001b[32m      7\u001b[39m telescope.add_detector(name=\u001b[33m\"\u001b[39m\u001b[33mAF CCD\u001b[39m\u001b[33m\"\u001b[39m, pixelscale=\u001b[32m0.001\u001b[39m*(u.arcsec/u.pixel), fov_arcsec=\u001b[32m4\u001b[39m*u.arcsec) \n\u001b[32m----> \u001b[39m\u001b[32m8\u001b[39m psf_l = \u001b[43mtelescope\u001b[49m\u001b[43m.\u001b[49m\u001b[43mcalc_psf\u001b[49m\u001b[43m(\u001b[49m\u001b[43mwavelength\u001b[49m\u001b[43m=\u001b[49m\u001b[43m(\u001b[49m\u001b[43mnp\u001b[49m\u001b[43m.\u001b[49m\u001b[43marange\u001b[49m\u001b[43m(\u001b[49m\u001b[32;43m320\u001b[39;49m\u001b[43m,\u001b[49m\u001b[32;43m1100\u001b[39;49m\u001b[43m,\u001b[49m\u001b[32;43m1\u001b[39;49m\u001b[43m)\u001b[49m\u001b[43m*\u001b[49m\u001b[43mu\u001b[49m\u001b[43m.\u001b[49m\u001b[43mnm\u001b[49m\u001b[43m)\u001b[49m\u001b[43m.\u001b[49m\u001b[43mto\u001b[49m\u001b[43m(\u001b[49m\u001b[43mu\u001b[49m\u001b[43m.\u001b[49m\u001b[43mm\u001b[49m\u001b[43m)\u001b[49m\u001b[43m,\u001b[49m\u001b[43m \u001b[49m\u001b[43mprogressbar\u001b[49m\u001b[43m=\u001b[49m\u001b[38;5;28;43;01mTrue\u001b[39;49;00m\u001b[43m)\u001b[49m\n\u001b[32m     10\u001b[39m psfs = []\n\u001b[32m     11\u001b[39m fpsf = []\n",
      "\u001b[36mFile \u001b[39m\u001b[32m~/miniforge3/lib/python3.12/site-packages/poppy/utils.py:1476\u001b[39m, in \u001b[36mBackCompatibleQuantityInput.__call__.<locals>.unit_check_wrapper\u001b[39m\u001b[34m(*func_args, **func_kwargs)\u001b[39m\n\u001b[32m   1472\u001b[39m \u001b[38;5;66;03m# Call the original function with any equivalencies in force.\u001b[39;00m\n\u001b[32m   1473\u001b[39m \u001b[38;5;28;01mwith\u001b[39;00m add_enabled_equivalencies(\u001b[38;5;28mself\u001b[39m.equivalencies):\n\u001b[32m   1474\u001b[39m     \u001b[38;5;66;03m# print(\"Args:   {}\".format(bound_args.args))\u001b[39;00m\n\u001b[32m   1475\u001b[39m     \u001b[38;5;66;03m# print(\"KWArgs: {}\".format(bound_args.kwargs))\u001b[39;00m\n\u001b[32m-> \u001b[39m\u001b[32m1476\u001b[39m     \u001b[38;5;28;01mreturn\u001b[39;00m \u001b[43mwrapped_function\u001b[49m\u001b[43m(\u001b[49m\u001b[43m*\u001b[49m\u001b[43mbound_args\u001b[49m\u001b[43m.\u001b[49m\u001b[43margs\u001b[49m\u001b[43m,\u001b[49m\u001b[43m \u001b[49m\u001b[43m*\u001b[49m\u001b[43m*\u001b[49m\u001b[43mbound_args\u001b[49m\u001b[43m.\u001b[49m\u001b[43mkwargs\u001b[49m\u001b[43m)\u001b[49m\n",
      "\u001b[36mFile \u001b[39m\u001b[32m~/miniforge3/lib/python3.12/site-packages/poppy/poppy_core.py:1739\u001b[39m, in \u001b[36mBaseOpticalSystem.calc_psf\u001b[39m\u001b[34m(self, wavelength, weight, save_intermediates, save_intermediates_what, display, return_intermediates, return_final, source, normalize, display_intermediates, progressbar, inwave)\u001b[39m\n\u001b[32m   1737\u001b[39m iterate_wrapper = utils.get_progressbar_wrapper(progressbar, nwaves=\u001b[38;5;28mlen\u001b[39m(wavelength))\n\u001b[32m   1738\u001b[39m \u001b[38;5;28;01mfor\u001b[39;00m wlen, wave_weight \u001b[38;5;129;01min\u001b[39;00m iterate_wrapper(\u001b[38;5;28mzip\u001b[39m(wavelength, normwts)):\n\u001b[32m-> \u001b[39m\u001b[32m1739\u001b[39m     mono_psf, mono_intermediate_wfs = \u001b[38;5;28;43mself\u001b[39;49m\u001b[43m.\u001b[49m\u001b[43mpropagate_mono\u001b[49m\u001b[43m(\u001b[49m\n\u001b[32m   1740\u001b[39m \u001b[43m        \u001b[49m\u001b[43mwlen\u001b[49m\u001b[43m,\u001b[49m\n\u001b[32m   1741\u001b[39m \u001b[43m        \u001b[49m\u001b[43mretain_intermediates\u001b[49m\u001b[43m=\u001b[49m\u001b[43mretain_intermediates\u001b[49m\u001b[43m,\u001b[49m\n\u001b[32m   1742\u001b[39m \u001b[43m        \u001b[49m\u001b[43mretain_final\u001b[49m\u001b[43m=\u001b[49m\u001b[43mreturn_final\u001b[49m\u001b[43m,\u001b[49m\n\u001b[32m   1743\u001b[39m \u001b[43m        \u001b[49m\u001b[43mdisplay_intermediates\u001b[49m\u001b[43m=\u001b[49m\u001b[43mdisplay_intermediates\u001b[49m\u001b[43m,\u001b[49m\n\u001b[32m   1744\u001b[39m \u001b[43m        \u001b[49m\u001b[43mnormalize\u001b[49m\u001b[43m=\u001b[49m\u001b[43mnormalize\u001b[49m\u001b[43m,\u001b[49m\n\u001b[32m   1745\u001b[39m \u001b[43m        \u001b[49m\u001b[43minwave\u001b[49m\u001b[43m=\u001b[49m\u001b[43minwave\u001b[49m\n\u001b[32m   1746\u001b[39m \u001b[43m    \u001b[49m\u001b[43m)\u001b[49m\n\u001b[32m   1748\u001b[39m     \u001b[38;5;28;01mif\u001b[39;00m outfits \u001b[38;5;129;01mis\u001b[39;00m \u001b[38;5;28;01mNone\u001b[39;00m:\n\u001b[32m   1749\u001b[39m         \u001b[38;5;66;03m# for the first wavelength processed, set up the arrays where we accumulate the output\u001b[39;00m\n\u001b[32m   1750\u001b[39m         outfits = mono_psf\n",
      "\u001b[36mFile \u001b[39m\u001b[32m~/miniforge3/lib/python3.12/site-packages/poppy/utils.py:1476\u001b[39m, in \u001b[36mBackCompatibleQuantityInput.__call__.<locals>.unit_check_wrapper\u001b[39m\u001b[34m(*func_args, **func_kwargs)\u001b[39m\n\u001b[32m   1472\u001b[39m \u001b[38;5;66;03m# Call the original function with any equivalencies in force.\u001b[39;00m\n\u001b[32m   1473\u001b[39m \u001b[38;5;28;01mwith\u001b[39;00m add_enabled_equivalencies(\u001b[38;5;28mself\u001b[39m.equivalencies):\n\u001b[32m   1474\u001b[39m     \u001b[38;5;66;03m# print(\"Args:   {}\".format(bound_args.args))\u001b[39;00m\n\u001b[32m   1475\u001b[39m     \u001b[38;5;66;03m# print(\"KWArgs: {}\".format(bound_args.kwargs))\u001b[39;00m\n\u001b[32m-> \u001b[39m\u001b[32m1476\u001b[39m     \u001b[38;5;28;01mreturn\u001b[39;00m \u001b[43mwrapped_function\u001b[49m\u001b[43m(\u001b[49m\u001b[43m*\u001b[49m\u001b[43mbound_args\u001b[49m\u001b[43m.\u001b[49m\u001b[43margs\u001b[49m\u001b[43m,\u001b[49m\u001b[43m \u001b[49m\u001b[43m*\u001b[49m\u001b[43m*\u001b[49m\u001b[43mbound_args\u001b[49m\u001b[43m.\u001b[49m\u001b[43mkwargs\u001b[49m\u001b[43m)\u001b[49m\n",
      "\u001b[36mFile \u001b[39m\u001b[32m~/miniforge3/lib/python3.12/site-packages/poppy/poppy_core.py:1887\u001b[39m, in \u001b[36mBaseOpticalSystem.propagate_mono\u001b[39m\u001b[34m(self, wavelength, normalize, retain_intermediates, retain_final, display_intermediates, inwave)\u001b[39m\n\u001b[32m   1884\u001b[39m     t_stop = time.time()\n\u001b[32m   1885\u001b[39m     _log.debug(\u001b[33m\"\u001b[39m\u001b[38;5;130;01m\\t\u001b[39;00m\u001b[33mTIME \u001b[39m\u001b[38;5;132;01m%f\u001b[39;00m\u001b[33m s\u001b[39m\u001b[38;5;130;01m\\t\u001b[39;00m\u001b[33mfor propagating one wavelength\u001b[39m\u001b[33m\"\u001b[39m % (t_stop - t_start))\n\u001b[32m-> \u001b[39m\u001b[32m1887\u001b[39m \u001b[38;5;28;01mreturn\u001b[39;00m \u001b[43mwavefront\u001b[49m\u001b[43m.\u001b[49m\u001b[43mas_fits\u001b[49m\u001b[43m(\u001b[49m\u001b[43m)\u001b[49m, intermediate_wfs\n",
      "\u001b[36mFile \u001b[39m\u001b[32m~/miniforge3/lib/python3.12/site-packages/poppy/poppy_core.py:268\u001b[39m, in \u001b[36mBaseWavefront.as_fits\u001b[39m\u001b[34m(self, what, includepadding, **kwargs)\u001b[39m\n\u001b[32m    266\u001b[39m     outfits[\u001b[32m0\u001b[39m].header[\u001b[33m'\u001b[39m\u001b[33mPLANE2\u001b[39m\u001b[33m'\u001b[39m] = \u001b[33m'\u001b[39m\u001b[33mWavefront Phase\u001b[39m\u001b[33m'\u001b[39m\n\u001b[32m    267\u001b[39m \u001b[38;5;28;01melif\u001b[39;00m what.lower() == \u001b[33m'\u001b[39m\u001b[33mintensity\u001b[39m\u001b[33m'\u001b[39m:\n\u001b[32m--> \u001b[39m\u001b[32m268\u001b[39m     outfits = fits.HDUList(fits.PrimaryHDU(get_unpadded(\u001b[38;5;28;43mself\u001b[39;49m\u001b[43m.\u001b[49m\u001b[43mintensity\u001b[49m\u001b[43m.\u001b[49m\u001b[43mget\u001b[49m\u001b[43m(\u001b[49m\u001b[43m)\u001b[49m \u001b[38;5;28;01mif\u001b[39;00m accel_math._USE_CUPY \u001b[38;5;28;01melse\u001b[39;00m \u001b[38;5;28mself\u001b[39m.intensity)))\n\u001b[32m    269\u001b[39m     outfits[\u001b[32m0\u001b[39m].header[\u001b[33m'\u001b[39m\u001b[33mPLANE1\u001b[39m\u001b[33m'\u001b[39m] = \u001b[33m'\u001b[39m\u001b[33mWavefront Intensity\u001b[39m\u001b[33m'\u001b[39m\n\u001b[32m    270\u001b[39m \u001b[38;5;28;01melif\u001b[39;00m what.lower() == \u001b[33m'\u001b[39m\u001b[33mphase\u001b[39m\u001b[33m'\u001b[39m:\n",
      "\u001b[31mKeyboardInterrupt\u001b[39m: "
     ]
    }
   ],
   "source": [
    "telescope = poppy.OpticalSystem(name=\"Gaia\", oversample=4, verbose=True)\n",
    "M1 = poppy.RectangleAperture(name=\"Primary Mirror\", width=1.45*u.m, height=0.5*u.m)\n",
    "# M2 = poppy.RectangleAperture(name=\"Beam Collimator / Secondary Mirror\",width=0.35*u.m, height=0.2*u.m)\n",
    "telescope.add_pupil(M1)\n",
    "# telescope.add_pupil(M2)\n",
    "# oversampled sky\n",
    "telescope.add_detector(name=\"AF CCD\", pixelscale=0.001*(u.arcsec/u.pixel), fov_arcsec=4*u.arcsec) \n",
    "psf_l = telescope.calc_psf(wavelength=(np.arange(320,1100,1)*u.nm).to(u.m), progressbar=True)\n",
    "\n",
    "psfs = []\n",
    "fpsf = []\n",
    "\n",
    "for psf in psf_l:\n",
    "    psfs.append(psf.data)\n",
    "    fpsf.append(psf.data * Gpb['G'])\n",
    "\n",
    "psfs = np.dstack(psfs)\n",
    "fpsf = np.dstack(fpsf)\n",
    "\n",
    "sum_psf = np.sum(fpsf, axis=2)\n",
    "\n",
    "telescope_psf = poppy.utils.rebin_array(psf[0].data, (8,8))\n",
    "\n",
    "plt.figure(figsize=(8,8))\n",
    "plt.imshow(telescope_psf, origin='lower', cmap='inferno')\n",
    "plt.colorbar(shrink=0.8, label='Intensity')\n",
    "plt.title(\"Telescope PSF\")\n",
    "plt.xlabel(\"Pixels\")\n",
    "plt.ylabel(\"Pixels\")\n",
    "plt.show()"
   ]
  },
  {
   "cell_type": "code",
   "execution_count": null,
   "id": "15c92d92",
   "metadata": {},
   "outputs": [],
   "source": [
    "ccd = poppy.OpticalSystem(name=\"CCD\", oversample=4, verbose=True)\n",
    "ccd.add_pupil(M1)\n",
    "ccd.add_detector(name=\"CCD\", pixelscale=0.059*(u.arcsec/u.pixel), fov_arcsec=(0.059*4500,1966*0.177))\n",
    "\n",
    "psf_ccd = ccd.calc_psf(wavelength=650e-9*u.m)\n",
    "ccd_psf = psf_ccd[0].data\n",
    "#ccd_psf = poppy.utils.rebin_array(psf_ccd[0].data, (32,32))\n",
    "\n",
    "plt.figure(figsize=(8,8))\n",
    "plt.imshow(ccd_psf, origin='lower', cmap='inferno')\n",
    "plt.colorbar(shrink=0.8, label='Intensity')\n",
    "plt.title(\"CCD PSF\")\n",
    "plt.xlabel(\"Pixels\")\n",
    "plt.ylabel(\"Pixels\")\n",
    "plt.show()"
   ]
  },
  {
   "cell_type": "code",
   "execution_count": null,
   "id": "dbcfc4cf",
   "metadata": {},
   "outputs": [],
   "source": []
  }
 ],
 "metadata": {
  "kernelspec": {
   "display_name": "base",
   "language": "python",
   "name": "python3"
  },
  "language_info": {
   "codemirror_mode": {
    "name": "ipython",
    "version": 3
   },
   "file_extension": ".py",
   "mimetype": "text/x-python",
   "name": "python",
   "nbconvert_exporter": "python",
   "pygments_lexer": "ipython3",
   "version": "3.12.10"
  }
 },
 "nbformat": 4,
 "nbformat_minor": 5
}
