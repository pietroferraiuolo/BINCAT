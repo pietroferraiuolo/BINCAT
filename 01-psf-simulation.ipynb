{
 "cells": [
  {
   "cell_type": "markdown",
   "id": "eb75744c",
   "metadata": {},
   "source": [
    "# GAIA PSF Simulation\n",
    "\n",
    "First attempt to simulate close binary stars observation using the gaia telescope. The latter is imagined as a rectangular pupil, with no pixel binning or aberrations"
   ]
  },
  {
   "cell_type": "markdown",
   "id": "d2e0a393",
   "metadata": {},
   "source": [
    "#### Initialization"
   ]
  },
  {
   "cell_type": "code",
   "execution_count": null,
   "id": "a1966bb3",
   "metadata": {},
   "outputs": [],
   "source": [
    "# %matplotlib qt\n",
    "import logging\n",
    "# logging.basicConfig(level=logging.WARNING, format=' - %(levelname)s - %(message)s')"
   ]
  },
  {
   "cell_type": "code",
   "execution_count": null,
   "id": "c75cb6ed",
   "metadata": {},
   "outputs": [],
   "source": [
    "import poppy\n",
    "from xupy import typings as xt\n",
    "import xupy as xp\n",
    "import astropy.units as u\n",
    "from astropy import convolution as c\n",
    "from astropy.io import fits\n",
    "from astropy.table import QTable\n",
    "from matplotlib import pyplot as plt\n",
    "from simulator import BinarySystem\n",
    "from instruments import CCD\n",
    "import utils as ut\n",
    "\n",
    "Gpb = QTable.read(\"data/gaiaDR3passband.fits\")\n",
    "weights = Gpb.filled(0)\n",
    "\n",
    "def rebinned(psf: fits.HDUList | xt.ArrayLike, rebin_factor: int, axis_ratio: tuple[int,int] = (1,1)) -> fits.HDUList:\n",
    "    \"\"\"\n",
    "    Rebin PSF by a given factor, following Gaia's pixel scale (1:3 ratio).\n",
    "    \"\"\"\n",
    "    if isinstance(psf, fits.HDUList):\n",
    "        psf = psf[0].data\n",
    "    px_ratio = (rebin_factor*axis_ratio[0], rebin_factor*axis_ratio[1])\n",
    "    return poppy.utils.rebin_array(psf, px_ratio)"
   ]
  },
  {
   "cell_type": "markdown",
   "id": "1548de09",
   "metadata": {},
   "source": [
    "```py\n",
    "poppy.conf.n_processes = 20\n",
    "poppy.conf.use_cupy = False\n",
    "poppy.conf.use_multiprocessing = False\n",
    "poppy.conf.double_precision = False\n",
    "\n",
    "M1 = poppy.RectangleAperture(name=\"Primary Mirror\", height=1.45*u.m, width=0.5*u.m)\n",
    "# M2 = poppy.RectangleAperture(name=\"Beam Collimator / Secondary Mirror\",width=0.35*u.m, height=0.2*u.m)\n",
    "telescope = poppy.OpticalSystem(name=\"Gaia\", oversample=1, verbose=True)\n",
    "\n",
    "telescope.add_pupil(M1)\n",
    "telescope.add_detector(name=\"SkyPLANE\", pixelscale=0.001*(u.arcsec/u.pixel), fov_pixels=(2124,1062), oversample=1)\n",
    "\n",
    "psf = telescope.calc_psf(progressbar=True, return_final=True, source={'wavelengths': Gpb['lambda'], 'weights': weights['G']})\n",
    "\n",
    "poppy.utils.display_psf(psf[0], title=\"Gaia PSF\", vmax=psf[0][0].data.max())\n",
    "psf[0].writeto(\"data/simulations/PSFs/20250923_3_gaia_psf_T.fits\", overwrite=True)"
   ]
  },
  {
   "cell_type": "markdown",
   "id": "1c3cc5d5",
   "metadata": {},
   "source": [
    "## Got The PSF: Now on to the convolution"
   ]
  },
  {
   "cell_type": "code",
   "execution_count": null,
   "id": "70f1e808",
   "metadata": {},
   "outputs": [],
   "source": [
    "@ut.timer\n",
    "def cpu_fft(**kwargs):\n",
    "    return c.convolve_fft(**kwargs)\n",
    "\n",
    "@ut.timer\n",
    "def gpu_fft(**kwargs):\n",
    "    from processing import convolve_fft\n",
    "    return convolve_fft(**kwargs)"
   ]
  },
  {
   "cell_type": "markdown",
   "id": "e0a5bd5b",
   "metadata": {},
   "source": [
    "#### Creating the **Binary Star System (BSS)** and the **CCD**"
   ]
  },
  {
   "cell_type": "code",
   "execution_count": null,
   "id": "bd13c044",
   "metadata": {},
   "outputs": [],
   "source": [
    "ccd = CCD(psf=\"data/simulations/PSFs/1062x2124_gpsf_T.fits\", pixel_scale_x = 177*u.mas, pixel_scale_y = 59*u.mas)\n",
    "bs = BinarySystem(ccd=ccd, M1=8, M2=8, distance=200, angle=45.)\n",
    "\n",
    "ccd.display_psf()"
   ]
  },
  {
   "cell_type": "code",
   "execution_count": null,
   "id": "4eb881d9",
   "metadata": {},
   "outputs": [],
   "source": [
    "rbfactor = int(ccd.pxscale_y.value)\n",
    "ratio = int(1/ccd.pxscale_factor)\n",
    "rbratio = (rbfactor * ratio, rbfactor)\n",
    "print(rbratio)"
   ]
  },
  {
   "cell_type": "code",
   "execution_count": null,
   "id": "90258ecb",
   "metadata": {},
   "outputs": [],
   "source": [
    "map = bs.show_system(out=True, origin='lower')"
   ]
  },
  {
   "cell_type": "code",
   "execution_count": null,
   "id": "6cea7abf",
   "metadata": {},
   "outputs": [],
   "source": []
  },
  {
   "cell_type": "code",
   "execution_count": 1,
   "id": "daa8c1c5",
   "metadata": {},
   "outputs": [
    {
     "name": "stdout",
     "output_type": "stream",
     "text": [
      "\n",
      "\n",
      "[XuPy] Multiple GPUs detected:\n",
      "       - gpu_id 0 : NVIDIA L40S | Memory = 46579.46 MB | Compute Capability = 8.9\n",
      "       - gpu_id 1 : NVIDIA L40S | Memory = 46579.46 MB | Compute Capability = 8.9\n",
      "       Using CuPy 13.6.0 for acceleration.\n"
     ]
    },
    {
     "name": "stderr",
     "output_type": "stream",
     "text": [
      "/home/pietrof/miniconda3/lib/python3.13/site-packages/cupyx/jit/_interface.py:173: FutureWarning: cupyx.jit.rawkernel is experimental. The interface can change in the future.\n",
      "  cupy._util.experimental('cupyx.jit.rawkernel')\n"
     ]
    },
    {
     "name": "stdout",
     "output_type": "stream",
     "text": [
      "No GRASPDATA environment variable found. Using the HOME folder.\n"
     ]
    },
    {
     "name": "stderr",
     "output_type": "stream",
     "text": [
      "[20251001_154655] Observing...: 100%|██████████| 783/783 [03:31<00:00,  3.70images/s]\n"
     ]
    },
    {
     "name": "stdout",
     "output_type": "stream",
     "text": [
      "20251001_154655\n"
     ]
    }
   ],
   "source": [
    "from main import main\n",
    "from instruments import CCD\n",
    "from astropy import units as u\n",
    "\n",
    "ccd = CCD(psf=\"data/simulations/PSFs/1062x2124_gpsf_T.fits\", pixel_scale_x = 177*u.mas, pixel_scale_y = 59*u.mas)\n",
    "\n",
    "main(7,7, 500, 90, ccd=ccd)"
   ]
  },
  {
   "cell_type": "code",
   "execution_count": null,
   "id": "66cd3ffa",
   "metadata": {},
   "outputs": [],
   "source": []
  }
 ],
 "metadata": {
  "kernelspec": {
   "display_name": "base",
   "language": "python",
   "name": "python3"
  },
  "language_info": {
   "codemirror_mode": {
    "name": "ipython",
    "version": 3
   },
   "file_extension": ".py",
   "mimetype": "text/x-python",
   "name": "python",
   "nbconvert_exporter": "python",
   "pygments_lexer": "ipython3",
   "version": "3.13.2"
  }
 },
 "nbformat": 4,
 "nbformat_minor": 5
}
