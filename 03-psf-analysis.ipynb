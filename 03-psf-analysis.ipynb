{
 "cells": [
  {
   "cell_type": "markdown",
   "id": "5bf69e32",
   "metadata": {},
   "source": [
    "## Loading the data"
   ]
  },
  {
   "cell_type": "code",
   "execution_count": null,
   "id": "b2fc5b2c",
   "metadata": {},
   "outputs": [],
   "source": [
    "%matplotlib qt\n",
    "\n",
    "import xupy as xp\n",
    "import utils as ut\n",
    "import processing as p\n",
    "import grasp\n",
    "stats = grasp.stats\n",
    "from matplotlib.pyplot import *\n",
    "import astropy.units as u\n",
    "\n",
    "tn = '20250926_122421'\n",
    "tn = '20250929_123058'\n",
    "tn = '20250929_160852'\n",
    "cal_psf = ut.load_psf(f\"{ut.simpath}/observations/{tn}/calibration.fits\")\n",
    "cube = ut.load_psf_cube(tn)"
   ]
  },
  {
   "cell_type": "markdown",
   "id": "ce8098a8",
   "metadata": {},
   "source": [
    "## Image Parameter Determination"
   ]
  },
  {
   "cell_type": "markdown",
   "id": "5c7814aa",
   "metadata": {},
   "source": [
    "### Reduced Chi-Sqaured: $\\chi^2_{red}$"
   ]
  },
  {
   "cell_type": "code",
   "execution_count": null,
   "id": "068c095a",
   "metadata": {},
   "outputs": [],
   "source": [
    "chi_arr = []\n",
    "phi_arr = []\n",
    "exp = cal_psf.psf_2d\n",
    "for i in range(len(cube)):\n",
    "    psf_i = cube[i].psf_2d\n",
    "    phi_i = cube[i].phi\n",
    "    chi_i = p._reduced_chi_squared(psf_i, exp)\n",
    "    chi_arr.append(chi_i)\n",
    "    phi_arr.append(phi_i)\n",
    "\n",
    "chiphi = xp.np.array(list(zip(chi_arr, phi_arr)))\n",
    "chiphi = chiphi[xp.np.argsort(chiphi[:,1])]"
   ]
  },
  {
   "cell_type": "markdown",
   "id": "d63b7fb7",
   "metadata": {},
   "source": [
    "### Harmonic decomposition of the reduced Chi-squared:\n",
    "\n",
    "$$ \\ln{\\chi^2_{red}(\\varphi)} \\simeq c_0 + c_2 \\cos{2\\varphi} + s_2 \\sin{2\\varphi} \\quad ; \\quad \\text{k=2 term dominant for binaries} $$\n",
    "\n",
    " - `ipd_gof_harmonic_amplitude` : $ \\sqrt{c_2^2 + s_2^2} $\n",
    "\n",
    " - `ipd_gof_harmonic_phase` : $ \\mathcal{arctan2}\\bigg(\\dfrac{s_2}{c_2}\\bigg) $"
   ]
  },
  {
   "cell_type": "code",
   "execution_count": null,
   "id": "5eeecb0c",
   "metadata": {},
   "outputs": [],
   "source": [
    "p.ipd_gof_harmonic(cube, cal_psf, show=True)"
   ]
  },
  {
   "cell_type": "markdown",
   "id": "c57d4cda",
   "metadata": {},
   "source": [
    "### Multi-Peak detection"
   ]
  },
  {
   "cell_type": "code",
   "execution_count": null,
   "id": "6ede33f7",
   "metadata": {},
   "outputs": [],
   "source": [
    "p.find_local_maxima(cube[0], which='both', show=True)"
   ]
  },
  {
   "cell_type": "code",
   "execution_count": null,
   "id": "fa292f02",
   "metadata": {},
   "outputs": [],
   "source": []
  }
 ],
 "metadata": {
  "kernelspec": {
   "display_name": "base",
   "language": "python",
   "name": "python3"
  },
  "language_info": {
   "codemirror_mode": {
    "name": "ipython",
    "version": 3
   },
   "file_extension": ".py",
   "mimetype": "text/x-python",
   "name": "python",
   "nbconvert_exporter": "python",
   "pygments_lexer": "ipython3",
   "version": "3.12.10"
  }
 },
 "nbformat": 4,
 "nbformat_minor": 5
}
