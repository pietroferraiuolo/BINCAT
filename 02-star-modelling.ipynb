{
 "cells": [
  {
   "cell_type": "code",
   "execution_count": 1,
   "id": "f816fd77",
   "metadata": {},
   "outputs": [],
   "source": [
    "from astropy import units as u\n",
    "from astropy.modeling.models import BlackBody"
   ]
  },
  {
   "cell_type": "code",
   "execution_count": 2,
   "id": "608d805f",
   "metadata": {},
   "outputs": [],
   "source": [
    "T_eff = 5778 * u.K\n",
    "A = 1*(u.erg/(u.cm**2 * u.s * u.AA * u.sr))\n",
    "bb = BlackBody(temperature=T_eff, scale=A)"
   ]
  },
  {
   "cell_type": "code",
   "execution_count": null,
   "id": "0e6c1786",
   "metadata": {},
   "outputs": [
    {
     "name": "stdout",
     "output_type": "stream",
     "text": [
      "Black body flux at 5000 Angstroms: 2.64e+06 erg / (Angstrom s sr cm2) (cgs)  ;  2.64e+13 J / (s sr m3) (SI)\n"
     ]
    }
   ],
   "source": [
    "wl = 5000 * u.AA\n",
    "val = bb(wl)\n",
    "\n",
    "print(f\"Black body flux at 5000 Angstroms: {val:.2e} (cgs)  ;  {val.to(u.J / (u.m**3 * u.sr * u.s)):.2e} (SI)\")"
   ]
  },
  {
   "cell_type": "markdown",
   "id": "a0f183e1",
   "metadata": {},
   "source": [
    "Integrated spectral flux for a BlackBody:\n",
    "\n",
    "\\begin{align}\n",
    "BB(\\lambda, T_{eff}) &= \\dfrac{hc^2}{\\lambda^5} \\dfrac{1}{e^{{h c}/(\\lambda k_b T_{eff})} - 1} \\qquad ; \\qquad [\\text{J}\\,s^{-1}\\text{sr}^{-1}m^{-3}] \\notag \\\\ \n",
    "\\text{Given } t_{eff}=\\mathcal{T}\\,;\\,\\lambda=\\Lambda \\qquad & \\notag \\\\\n",
    "\\text{The energy per second is: } \\rightarrow &BB(\\Lambda,\\mathcal{T})\\cdot A_{eff} \\cdot \\Omega \\equiv E_{BB}\n",
    "\\end{align}\n",
    "\n",
    "where:\n",
    "- $\\Omega$ is the total solid angle $\\bigg(\\dfrac{A_{eff}}{R^2}\\bigg)$\n",
    "- $A_{eff}$ is the total collecting area"
   ]
  },
  {
   "cell_type": "code",
   "execution_count": null,
   "id": "1e85ef10",
   "metadata": {},
   "outputs": [],
   "source": [
    "val_SI = val.to(u.J / (u.m**3 * u.sr * u.s))\n",
    "\n",
    "lambd = wl.to(u.m)"
   ]
  },
  {
   "cell_type": "code",
   "execution_count": null,
   "id": "98f6a3b6",
   "metadata": {},
   "outputs": [],
   "source": []
  }
 ],
 "metadata": {
  "kernelspec": {
   "display_name": "base",
   "language": "python",
   "name": "python3"
  },
  "language_info": {
   "codemirror_mode": {
    "name": "ipython",
    "version": 3
   },
   "file_extension": ".py",
   "mimetype": "text/x-python",
   "name": "python",
   "nbconvert_exporter": "python",
   "pygments_lexer": "ipython3",
   "version": "3.12.10"
  }
 },
 "nbformat": 4,
 "nbformat_minor": 5
}
